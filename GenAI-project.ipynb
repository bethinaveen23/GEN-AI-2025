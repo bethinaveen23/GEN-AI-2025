{
  "nbformat": 4,
  "nbformat_minor": 0,
  "metadata": {
    "colab": {
      "provenance": [],
      "authorship_tag": "ABX9TyPXRQtiOtWfQG5DWW6dTnWd",
      "include_colab_link": true
    },
    "kernelspec": {
      "name": "python3",
      "display_name": "Python 3"
    },
    "language_info": {
      "name": "python"
    }
  },
  "cells": [
    {
      "cell_type": "markdown",
      "metadata": {
        "id": "view-in-github",
        "colab_type": "text"
      },
      "source": [
        "<a href=\"https://colab.research.google.com/github/bethinaveen23/GEN-AI-2025/blob/main/GenAI-project.ipynb\" target=\"_parent\"><img src=\"https://colab.research.google.com/assets/colab-badge.svg\" alt=\"Open In Colab\"/></a>"
      ]
    },
    {
      "cell_type": "markdown",
      "source": [
        "#Project\n",
        "#GenAI-Powered Business Analyst"
      ],
      "metadata": {
        "id": "WhmgQD706HCg"
      }
    },
    {
      "cell_type": "code",
      "execution_count": null,
      "metadata": {
        "colab": {
          "base_uri": "https://localhost:8080/"
        },
        "id": "DtWyjJmK5php",
        "outputId": "e5719569-f518-422a-b032-11ff1e1f2cd0"
      },
      "outputs": [
        {
          "output_type": "stream",
          "name": "stdout",
          "text": [
            "<class 'pandas.core.frame.DataFrame'>\n",
            "RangeIndex: 2823 entries, 0 to 2822\n",
            "Data columns (total 25 columns):\n",
            " #   Column            Non-Null Count  Dtype  \n",
            "---  ------            --------------  -----  \n",
            " 0   ORDERNUMBER       2823 non-null   int64  \n",
            " 1   QUANTITYORDERED   2823 non-null   int64  \n",
            " 2   PRICEEACH         2823 non-null   float64\n",
            " 3   ORDERLINENUMBER   2823 non-null   int64  \n",
            " 4   SALES             2823 non-null   float64\n",
            " 5   ORDERDATE         2823 non-null   object \n",
            " 6   STATUS            2823 non-null   object \n",
            " 7   QTR_ID            2823 non-null   int64  \n",
            " 8   MONTH_ID          2823 non-null   int64  \n",
            " 9   YEAR_ID           2823 non-null   int64  \n",
            " 10  PRODUCTLINE       2823 non-null   object \n",
            " 11  MSRP              2823 non-null   int64  \n",
            " 12  PRODUCTCODE       2823 non-null   object \n",
            " 13  CUSTOMERNAME      2823 non-null   object \n",
            " 14  PHONE             2823 non-null   object \n",
            " 15  ADDRESSLINE1      2823 non-null   object \n",
            " 16  ADDRESSLINE2      302 non-null    object \n",
            " 17  CITY              2823 non-null   object \n",
            " 18  STATE             1337 non-null   object \n",
            " 19  POSTALCODE        2747 non-null   object \n",
            " 20  COUNTRY           2823 non-null   object \n",
            " 21  TERRITORY         1749 non-null   object \n",
            " 22  CONTACTLASTNAME   2823 non-null   object \n",
            " 23  CONTACTFIRSTNAME  2823 non-null   object \n",
            " 24  DEALSIZE          2823 non-null   object \n",
            "dtypes: float64(2), int64(7), object(16)\n",
            "memory usage: 551.5+ KB\n",
            "<class 'pandas.core.frame.DataFrame'>\n",
            "RangeIndex: 8049 entries, 0 to 8048\n",
            "Data columns (total 12 columns):\n",
            " #   Column            Non-Null Count  Dtype  \n",
            "---  ------            --------------  -----  \n",
            " 0   Nasdaq Traded     8049 non-null   object \n",
            " 1   Symbol            8049 non-null   object \n",
            " 2   Security Name     8049 non-null   object \n",
            " 3   Listing Exchange  8049 non-null   object \n",
            " 4   Market Category   8049 non-null   object \n",
            " 5   ETF               8049 non-null   object \n",
            " 6   Round Lot Size    8049 non-null   float64\n",
            " 7   Test Issue        8049 non-null   object \n",
            " 8   Financial Status  3383 non-null   object \n",
            " 9   CQS Symbol        4666 non-null   object \n",
            " 10  NASDAQ Symbol     8049 non-null   object \n",
            " 11  NextShares        8049 non-null   object \n",
            "dtypes: float64(1), object(11)\n",
            "memory usage: 754.7+ KB\n",
            "<class 'pandas.core.frame.DataFrame'>\n",
            "RangeIndex: 1470 entries, 0 to 1469\n",
            "Data columns (total 35 columns):\n",
            " #   Column                    Non-Null Count  Dtype \n",
            "---  ------                    --------------  ----- \n",
            " 0   Age                       1470 non-null   int64 \n",
            " 1   Attrition                 1470 non-null   object\n",
            " 2   BusinessTravel            1470 non-null   object\n",
            " 3   DailyRate                 1470 non-null   int64 \n",
            " 4   Department                1470 non-null   object\n",
            " 5   DistanceFromHome          1470 non-null   int64 \n",
            " 6   Education                 1470 non-null   int64 \n",
            " 7   EducationField            1470 non-null   object\n",
            " 8   EmployeeCount             1470 non-null   int64 \n",
            " 9   EmployeeNumber            1470 non-null   int64 \n",
            " 10  EnvironmentSatisfaction   1470 non-null   int64 \n",
            " 11  Gender                    1470 non-null   object\n",
            " 12  HourlyRate                1470 non-null   int64 \n",
            " 13  JobInvolvement            1470 non-null   int64 \n",
            " 14  JobLevel                  1470 non-null   int64 \n",
            " 15  JobRole                   1470 non-null   object\n",
            " 16  JobSatisfaction           1470 non-null   int64 \n",
            " 17  MaritalStatus             1470 non-null   object\n",
            " 18  MonthlyIncome             1470 non-null   int64 \n",
            " 19  MonthlyRate               1470 non-null   int64 \n",
            " 20  NumCompaniesWorked        1470 non-null   int64 \n",
            " 21  Over18                    1470 non-null   object\n",
            " 22  OverTime                  1470 non-null   object\n",
            " 23  PercentSalaryHike         1470 non-null   int64 \n",
            " 24  PerformanceRating         1470 non-null   int64 \n",
            " 25  RelationshipSatisfaction  1470 non-null   int64 \n",
            " 26  StandardHours             1470 non-null   int64 \n",
            " 27  StockOptionLevel          1470 non-null   int64 \n",
            " 28  TotalWorkingYears         1470 non-null   int64 \n",
            " 29  TrainingTimesLastYear     1470 non-null   int64 \n",
            " 30  WorkLifeBalance           1470 non-null   int64 \n",
            " 31  YearsAtCompany            1470 non-null   int64 \n",
            " 32  YearsInCurrentRole        1470 non-null   int64 \n",
            " 33  YearsSinceLastPromotion   1470 non-null   int64 \n",
            " 34  YearsWithCurrManager      1470 non-null   int64 \n",
            "dtypes: int64(26), object(9)\n",
            "memory usage: 402.1+ KB\n"
          ]
        },
        {
          "output_type": "execute_result",
          "data": {
            "text/plain": [
              "(None,\n",
              "    ORDERNUMBER  QUANTITYORDERED  PRICEEACH  ORDERLINENUMBER    SALES  \\\n",
              " 0        10107               30      95.70                2  2871.00   \n",
              " 1        10121               34      81.35                5  2765.90   \n",
              " 2        10134               41      94.74                2  3884.34   \n",
              " 3        10145               45      83.26                6  3746.70   \n",
              " 4        10159               49     100.00               14  5205.27   \n",
              " \n",
              "          ORDERDATE   STATUS  QTR_ID  MONTH_ID  YEAR_ID  ...  \\\n",
              " 0   2/24/2003 0:00  Shipped       1         2     2003  ...   \n",
              " 1    5/7/2003 0:00  Shipped       2         5     2003  ...   \n",
              " 2    7/1/2003 0:00  Shipped       3         7     2003  ...   \n",
              " 3   8/25/2003 0:00  Shipped       3         8     2003  ...   \n",
              " 4  10/10/2003 0:00  Shipped       4        10     2003  ...   \n",
              " \n",
              "                     ADDRESSLINE1  ADDRESSLINE2           CITY STATE  \\\n",
              " 0        897 Long Airport Avenue           NaN            NYC    NY   \n",
              " 1             59 rue de l'Abbaye           NaN          Reims   NaN   \n",
              " 2  27 rue du Colonel Pierre Avia           NaN          Paris   NaN   \n",
              " 3             78934 Hillside Dr.           NaN       Pasadena    CA   \n",
              " 4                7734 Strong St.           NaN  San Francisco    CA   \n",
              " \n",
              "   POSTALCODE COUNTRY TERRITORY CONTACTLASTNAME CONTACTFIRSTNAME DEALSIZE  \n",
              " 0      10022     USA       NaN              Yu             Kwai    Small  \n",
              " 1      51100  France      EMEA         Henriot             Paul    Small  \n",
              " 2      75508  France      EMEA        Da Cunha           Daniel   Medium  \n",
              " 3      90003     USA       NaN           Young            Julie   Medium  \n",
              " 4        NaN     USA       NaN           Brown            Julie   Medium  \n",
              " \n",
              " [5 rows x 25 columns],\n",
              "          ORDERNUMBER  QUANTITYORDERED    PRICEEACH  ORDERLINENUMBER  \\\n",
              " count    2823.000000      2823.000000  2823.000000      2823.000000   \n",
              " unique           NaN              NaN          NaN              NaN   \n",
              " top              NaN              NaN          NaN              NaN   \n",
              " freq             NaN              NaN          NaN              NaN   \n",
              " mean    10258.725115        35.092809    83.658544         6.466171   \n",
              " std        92.085478         9.741443    20.174277         4.225841   \n",
              " min     10100.000000         6.000000    26.880000         1.000000   \n",
              " 25%     10180.000000        27.000000    68.860000         3.000000   \n",
              " 50%     10262.000000        35.000000    95.700000         6.000000   \n",
              " 75%     10333.500000        43.000000   100.000000         9.000000   \n",
              " max     10425.000000        97.000000   100.000000        18.000000   \n",
              " \n",
              "                SALES        ORDERDATE   STATUS       QTR_ID     MONTH_ID  \\\n",
              " count    2823.000000             2823     2823  2823.000000  2823.000000   \n",
              " unique           NaN              252        6          NaN          NaN   \n",
              " top              NaN  11/14/2003 0:00  Shipped          NaN          NaN   \n",
              " freq             NaN               38     2617          NaN          NaN   \n",
              " mean     3553.889072              NaN      NaN     2.717676     7.092455   \n",
              " std      1841.865106              NaN      NaN     1.203878     3.656633   \n",
              " min       482.130000              NaN      NaN     1.000000     1.000000   \n",
              " 25%      2203.430000              NaN      NaN     2.000000     4.000000   \n",
              " 50%      3184.800000              NaN      NaN     3.000000     8.000000   \n",
              " 75%      4508.000000              NaN      NaN     4.000000    11.000000   \n",
              " max     14082.800000              NaN      NaN     4.000000    12.000000   \n",
              " \n",
              "            YEAR_ID  ...        ADDRESSLINE1  ADDRESSLINE2    CITY STATE  \\\n",
              " count   2823.00000  ...                2823           302    2823  1337   \n",
              " unique         NaN  ...                  92             9      73    16   \n",
              " top            NaN  ...  C/ Moralzarzal, 86       Level 3  Madrid    CA   \n",
              " freq           NaN  ...                 259            55     304   416   \n",
              " mean    2003.81509  ...                 NaN           NaN     NaN   NaN   \n",
              " std        0.69967  ...                 NaN           NaN     NaN   NaN   \n",
              " min     2003.00000  ...                 NaN           NaN     NaN   NaN   \n",
              " 25%     2003.00000  ...                 NaN           NaN     NaN   NaN   \n",
              " 50%     2004.00000  ...                 NaN           NaN     NaN   NaN   \n",
              " 75%     2004.00000  ...                 NaN           NaN     NaN   NaN   \n",
              " max     2005.00000  ...                 NaN           NaN     NaN   NaN   \n",
              " \n",
              "        POSTALCODE COUNTRY TERRITORY CONTACTLASTNAME CONTACTFIRSTNAME DEALSIZE  \n",
              " count        2747    2823      1749            2823             2823     2823  \n",
              " unique         73      19         3              77               72        3  \n",
              " top         28034     USA      EMEA          Freyre            Diego   Medium  \n",
              " freq          259    1004      1407             259              259     1384  \n",
              " mean          NaN     NaN       NaN             NaN              NaN      NaN  \n",
              " std           NaN     NaN       NaN             NaN              NaN      NaN  \n",
              " min           NaN     NaN       NaN             NaN              NaN      NaN  \n",
              " 25%           NaN     NaN       NaN             NaN              NaN      NaN  \n",
              " 50%           NaN     NaN       NaN             NaN              NaN      NaN  \n",
              " 75%           NaN     NaN       NaN             NaN              NaN      NaN  \n",
              " max           NaN     NaN       NaN             NaN              NaN      NaN  \n",
              " \n",
              " [11 rows x 25 columns],\n",
              " None,\n",
              "   Nasdaq Traded Symbol                                      Security Name  \\\n",
              " 0             Y      A            Agilent Technologies, Inc. Common Stock   \n",
              " 1             Y     AA                    Alcoa Corporation Common Stock    \n",
              " 2             Y   AAAU                       Perth Mint Physical Gold ETF   \n",
              " 3             Y   AACG  ATA Creativity Global - American Depositary Sh...   \n",
              " 4             Y   AADR                AdvisorShares Dorsey Wright ADR ETF   \n",
              " \n",
              "   Listing Exchange Market Category ETF  Round Lot Size Test Issue  \\\n",
              " 0                N                   N           100.0          N   \n",
              " 1                N                   N           100.0          N   \n",
              " 2                P                   Y           100.0          N   \n",
              " 3                Q               G   N           100.0          N   \n",
              " 4                P                   Y           100.0          N   \n",
              " \n",
              "   Financial Status CQS Symbol NASDAQ Symbol NextShares  \n",
              " 0              NaN          A             A          N  \n",
              " 1              NaN         AA            AA          N  \n",
              " 2              NaN       AAAU          AAAU          N  \n",
              " 3                N        NaN          AACG          N  \n",
              " 4              NaN       AADR          AADR          N  ,\n",
              "        Nasdaq Traded Symbol                                Security Name  \\\n",
              " count           8049   8049                                         8049   \n",
              " unique             1   8049                                         8045   \n",
              " top                Y   ZYXI  Urstadt Biddle Properties Inc. Common Stock   \n",
              " freq            8049      1                                            2   \n",
              " mean             NaN    NaN                                          NaN   \n",
              " std              NaN    NaN                                          NaN   \n",
              " min              NaN    NaN                                          NaN   \n",
              " 25%              NaN    NaN                                          NaN   \n",
              " 50%              NaN    NaN                                          NaN   \n",
              " 75%              NaN    NaN                                          NaN   \n",
              " max              NaN    NaN                                          NaN   \n",
              " \n",
              "        Listing Exchange Market Category   ETF  Round Lot Size Test Issue  \\\n",
              " count              8049            8049  8049     8049.000000       8049   \n",
              " unique                5               4     2             NaN          1   \n",
              " top                   Q                     N             NaN          N   \n",
              " freq               3383            4666  5884             NaN       8049   \n",
              " mean                NaN             NaN   NaN       99.942974        NaN   \n",
              " std                 NaN             NaN   NaN        2.289194        NaN   \n",
              " min                 NaN             NaN   NaN        1.000000        NaN   \n",
              " 25%                 NaN             NaN   NaN      100.000000        NaN   \n",
              " 50%                 NaN             NaN   NaN      100.000000        NaN   \n",
              " 75%                 NaN             NaN   NaN      100.000000        NaN   \n",
              " max                 NaN             NaN   NaN      100.000000        NaN   \n",
              " \n",
              "        Financial Status CQS Symbol NASDAQ Symbol NextShares  \n",
              " count              3383       4666          8049       8049  \n",
              " unique                4       4666          8049          2  \n",
              " top                   N       ZYME          ZYXI          N  \n",
              " freq               3180          1             1       8046  \n",
              " mean                NaN        NaN           NaN        NaN  \n",
              " std                 NaN        NaN           NaN        NaN  \n",
              " min                 NaN        NaN           NaN        NaN  \n",
              " 25%                 NaN        NaN           NaN        NaN  \n",
              " 50%                 NaN        NaN           NaN        NaN  \n",
              " 75%                 NaN        NaN           NaN        NaN  \n",
              " max                 NaN        NaN           NaN        NaN  ,\n",
              " None,\n",
              "    Age Attrition     BusinessTravel  DailyRate              Department  \\\n",
              " 0   41       Yes      Travel_Rarely       1102                   Sales   \n",
              " 1   49        No  Travel_Frequently        279  Research & Development   \n",
              " 2   37       Yes      Travel_Rarely       1373  Research & Development   \n",
              " 3   33        No  Travel_Frequently       1392  Research & Development   \n",
              " 4   27        No      Travel_Rarely        591  Research & Development   \n",
              " \n",
              "    DistanceFromHome  Education EducationField  EmployeeCount  EmployeeNumber  \\\n",
              " 0                 1          2  Life Sciences              1               1   \n",
              " 1                 8          1  Life Sciences              1               2   \n",
              " 2                 2          2          Other              1               4   \n",
              " 3                 3          4  Life Sciences              1               5   \n",
              " 4                 2          1        Medical              1               7   \n",
              " \n",
              "    ...  RelationshipSatisfaction StandardHours  StockOptionLevel  \\\n",
              " 0  ...                         1            80                 0   \n",
              " 1  ...                         4            80                 1   \n",
              " 2  ...                         2            80                 0   \n",
              " 3  ...                         3            80                 0   \n",
              " 4  ...                         4            80                 1   \n",
              " \n",
              "    TotalWorkingYears  TrainingTimesLastYear WorkLifeBalance  YearsAtCompany  \\\n",
              " 0                  8                      0               1               6   \n",
              " 1                 10                      3               3              10   \n",
              " 2                  7                      3               3               0   \n",
              " 3                  8                      3               3               8   \n",
              " 4                  6                      3               3               2   \n",
              " \n",
              "   YearsInCurrentRole  YearsSinceLastPromotion  YearsWithCurrManager  \n",
              " 0                  4                        0                     5  \n",
              " 1                  7                        1                     7  \n",
              " 2                  0                        0                     0  \n",
              " 3                  7                        3                     0  \n",
              " 4                  2                        2                     2  \n",
              " \n",
              " [5 rows x 35 columns],\n",
              "                 Age Attrition BusinessTravel    DailyRate  \\\n",
              " count   1470.000000      1470           1470  1470.000000   \n",
              " unique          NaN         2              3          NaN   \n",
              " top             NaN        No  Travel_Rarely          NaN   \n",
              " freq            NaN      1233           1043          NaN   \n",
              " mean      36.923810       NaN            NaN   802.485714   \n",
              " std        9.135373       NaN            NaN   403.509100   \n",
              " min       18.000000       NaN            NaN   102.000000   \n",
              " 25%       30.000000       NaN            NaN   465.000000   \n",
              " 50%       36.000000       NaN            NaN   802.000000   \n",
              " 75%       43.000000       NaN            NaN  1157.000000   \n",
              " max       60.000000       NaN            NaN  1499.000000   \n",
              " \n",
              "                     Department  DistanceFromHome    Education EducationField  \\\n",
              " count                     1470       1470.000000  1470.000000           1470   \n",
              " unique                       3               NaN          NaN              6   \n",
              " top     Research & Development               NaN          NaN  Life Sciences   \n",
              " freq                       961               NaN          NaN            606   \n",
              " mean                       NaN          9.192517     2.912925            NaN   \n",
              " std                        NaN          8.106864     1.024165            NaN   \n",
              " min                        NaN          1.000000     1.000000            NaN   \n",
              " 25%                        NaN          2.000000     2.000000            NaN   \n",
              " 50%                        NaN          7.000000     3.000000            NaN   \n",
              " 75%                        NaN         14.000000     4.000000            NaN   \n",
              " max                        NaN         29.000000     5.000000            NaN   \n",
              " \n",
              "         EmployeeCount  EmployeeNumber  ...  RelationshipSatisfaction  \\\n",
              " count          1470.0     1470.000000  ...               1470.000000   \n",
              " unique            NaN             NaN  ...                       NaN   \n",
              " top               NaN             NaN  ...                       NaN   \n",
              " freq              NaN             NaN  ...                       NaN   \n",
              " mean              1.0     1024.865306  ...                  2.712245   \n",
              " std               0.0      602.024335  ...                  1.081209   \n",
              " min               1.0        1.000000  ...                  1.000000   \n",
              " 25%               1.0      491.250000  ...                  2.000000   \n",
              " 50%               1.0     1020.500000  ...                  3.000000   \n",
              " 75%               1.0     1555.750000  ...                  4.000000   \n",
              " max               1.0     2068.000000  ...                  4.000000   \n",
              " \n",
              "        StandardHours  StockOptionLevel  TotalWorkingYears  \\\n",
              " count         1470.0       1470.000000        1470.000000   \n",
              " unique           NaN               NaN                NaN   \n",
              " top              NaN               NaN                NaN   \n",
              " freq             NaN               NaN                NaN   \n",
              " mean            80.0          0.793878          11.279592   \n",
              " std              0.0          0.852077           7.780782   \n",
              " min             80.0          0.000000           0.000000   \n",
              " 25%             80.0          0.000000           6.000000   \n",
              " 50%             80.0          1.000000          10.000000   \n",
              " 75%             80.0          1.000000          15.000000   \n",
              " max             80.0          3.000000          40.000000   \n",
              " \n",
              "         TrainingTimesLastYear WorkLifeBalance  YearsAtCompany  \\\n",
              " count             1470.000000     1470.000000     1470.000000   \n",
              " unique                    NaN             NaN             NaN   \n",
              " top                       NaN             NaN             NaN   \n",
              " freq                      NaN             NaN             NaN   \n",
              " mean                 2.799320        2.761224        7.008163   \n",
              " std                  1.289271        0.706476        6.126525   \n",
              " min                  0.000000        1.000000        0.000000   \n",
              " 25%                  2.000000        2.000000        3.000000   \n",
              " 50%                  3.000000        3.000000        5.000000   \n",
              " 75%                  3.000000        3.000000        9.000000   \n",
              " max                  6.000000        4.000000       40.000000   \n",
              " \n",
              "        YearsInCurrentRole  YearsSinceLastPromotion  YearsWithCurrManager  \n",
              " count         1470.000000              1470.000000           1470.000000  \n",
              " unique                NaN                      NaN                   NaN  \n",
              " top                   NaN                      NaN                   NaN  \n",
              " freq                  NaN                      NaN                   NaN  \n",
              " mean             4.229252                 2.187755              4.123129  \n",
              " std              3.623137                 3.222430              3.568136  \n",
              " min              0.000000                 0.000000              0.000000  \n",
              " 25%              2.000000                 0.000000              2.000000  \n",
              " 50%              3.000000                 1.000000              3.000000  \n",
              " 75%              7.000000                 3.000000              7.000000  \n",
              " max             18.000000                15.000000             17.000000  \n",
              " \n",
              " [11 rows x 35 columns])"
            ]
          },
          "metadata": {},
          "execution_count": 1
        }
      ],
      "source": [
        "import pandas as pd\n",
        "\n",
        "# Load the datasets\n",
        "sales_data = pd.read_csv('/content/sales_data_sample.csv', encoding='latin1')\n",
        "stock_data = pd.read_csv('/content/symbols_valid_meta.csv')\n",
        "hr_data = pd.read_csv('/content/WA_Fn-UseC_-HR-Employee-Attrition.csv')\n",
        "\n",
        "# Display basic info and previews\n",
        "sales_info = sales_data.info()\n",
        "stock_info = stock_data.info()\n",
        "hr_info = hr_data.info()\n",
        "\n",
        "sales_preview = sales_data.head()\n",
        "stock_preview = stock_data.head()\n",
        "hr_preview = hr_data.head()\n",
        "\n",
        "sales_summary = sales_data.describe(include='all')\n",
        "stock_summary = stock_data.describe(include='all')\n",
        "hr_summary = hr_data.describe(include='all')\n",
        "\n",
        "(sales_info, sales_preview, sales_summary,\n",
        " stock_info, stock_preview, stock_summary,\n",
        " hr_info, hr_preview, hr_summary)\n"
      ]
    },
    {
      "cell_type": "markdown",
      "source": [
        "##Activation Function\n",
        "\n",
        "**1. Tanh Activation Function**"
      ],
      "metadata": {
        "id": "-Yd_LDBF6Uz4"
      }
    },
    {
      "cell_type": "code",
      "source": [
        "import tensorflow as tf\n",
        "import numpy as np\n",
        "import matplotlib.pyplot as plt\n",
        "\n",
        "x = np.linspace(-5, 5, 100)\n",
        "y = tf.keras.activations.tanh(x)\n",
        "\n",
        "plt.plot(x, y, label='tanh', color='blue')\n",
        "plt.title(\"Tanh Activation Function\")\n",
        "plt.xlabel(\"Input\")\n",
        "plt.ylabel(\"Output\")\n",
        "plt.grid(True)\n",
        "plt.legend()\n",
        "plt.show()\n"
      ],
      "metadata": {
        "colab": {
          "base_uri": "https://localhost:8080/",
          "height": 472
        },
        "id": "PkRtI7XR6bc5",
        "outputId": "5050d802-ac89-46f6-a413-a0cba4e834d9"
      },
      "execution_count": null,
      "outputs": [
        {
          "output_type": "display_data",
          "data": {
            "text/plain": [
              "<Figure size 640x480 with 1 Axes>"
            ],
            "image/png": "[encoded data removed]"
          },
          "metadata": {}
        }
      ]
    },
    {
      "cell_type": "markdown",
      "source": [
        "**2. ReLU Activation Function**"
      ],
      "metadata": {
        "id": "zHAs9U2l6rNx"
      }
    },
    {
      "cell_type": "code",
      "source": [
        "x = np.linspace(-5, 5, 100)\n",
        "y = tf.keras.activations.relu(x)\n",
        "\n",
        "plt.plot(x, y, label='ReLU', color='red')\n",
        "plt.title(\"ReLU Activation Function\")\n",
        "plt.xlabel(\"Input\")\n",
        "plt.ylabel(\"Output\")\n",
        "plt.grid(True)\n",
        "plt.legend()\n",
        "plt.show()\n"
      ],
      "metadata": {
        "colab": {
          "base_uri": "https://localhost:8080/",
          "height": 472
        },
        "id": "J6g2kc4Y6q0P",
        "outputId": "b315bd64-ce7f-4ee6-d94b-2db08c0afe79"
      },
      "execution_count": null,
      "outputs": [
        {
          "output_type": "display_data",
          "data": {
            "text/plain": [
              "<Figure size 640x480 with 1 Axes>"
            ],
            "image/png": "[encoded data removed]"
          },
          "metadata": {}
        }
      ]
    },
    {
      "cell_type": "markdown",
      "source": [
        "**3. Sigmoid Activation Function**"
      ],
      "metadata": {
        "id": "BSHF64AU6xWw"
      }
    },
    {
      "cell_type": "code",
      "source": [
        "x = np.linspace(-5, 5, 100)\n",
        "y = tf.keras.activations.sigmoid(x)\n",
        "\n",
        "plt.plot(x, y, label='Sigmoid', color='green')\n",
        "plt.title(\"Sigmoid Activation Function\")\n",
        "plt.xlabel(\"Input\")\n",
        "plt.ylabel(\"Output\")\n",
        "plt.grid(True)\n",
        "plt.legend()\n",
        "plt.show()\n"
      ],
      "metadata": {
        "colab": {
          "base_uri": "https://localhost:8080/",
          "height": 472
        },
        "id": "Wr22Cwi26wqL",
        "outputId": "835e4363-cde3-4b97-9f83-dc4a356d882f"
      },
      "execution_count": null,
      "outputs": [
        {
          "output_type": "display_data",
          "data": {
            "text/plain": [
              "<Figure size 640x480 with 1 Axes>"
            ],
            "image/png": "[encoded data removed]"
          },
          "metadata": {}
        }
      ]
    },
    {
      "cell_type": "markdown",
      "source": [
        "**4. Swish Activation Function**"
      ],
      "metadata": {
        "id": "C_kJzv_S67si"
      }
    },
    {
      "cell_type": "code",
      "source": [
        "x = np.linspace(-5, 5, 100)\n",
        "y = tf.keras.activations.swish(x)\n",
        "\n",
        "plt.plot(x, y, label='Swish', color='orange')\n",
        "plt.title(\"Swish Activation Function\")\n",
        "plt.xlabel(\"Input\")\n",
        "plt.ylabel(\"Output\")\n",
        "plt.grid(True)\n",
        "plt.legend()\n",
        "plt.show()\n"
      ],
      "metadata": {
        "colab": {
          "base_uri": "https://localhost:8080/",
          "height": 472
        },
        "id": "fJ7Qk3eH64il",
        "outputId": "5502d485-a354-405e-c2f3-8b13c474f43b"
      },
      "execution_count": null,
      "outputs": [
        {
          "output_type": "display_data",
          "data": {
            "text/plain": [
              "<Figure size 640x480 with 1 Axes>"
            ],
            "image/png": "[encoded data removed]"
          },
          "metadata": {}
        }
      ]
    },
    {
      "cell_type": "markdown",
      "source": [
        " # Apply These Activations in a Neural Network"
      ],
      "metadata": {
        "id": "ebo0-bbE7G4E"
      }
    },
    {
      "cell_type": "code",
      "source": [
        "import pandas as pd\n",
        "from sklearn.model_selection import train_test_split\n",
        "from sklearn.preprocessing import LabelEncoder, StandardScaler\n",
        "import numpy as np\n",
        "\n",
        "# Load the HR dataset\n",
        "hr_data = pd.read_csv('/content/WA_Fn-UseC_-HR-Employee-Attrition.csv')\n",
        "\n",
        "# Encode target variable\n",
        "hr_data['Attrition'] = hr_data['Attrition'].map({'Yes': 1, 'No': 0})\n",
        "\n",
        "# Drop non-numeric or identifier columns that are not useful\n",
        "drop_cols = ['EmployeeCount', 'EmployeeNumber', 'Over18', 'StandardHours']\n",
        "hr_data.drop(columns=drop_cols, inplace=True)\n",
        "\n",
        "# Convert categorical variables using one-hot encoding\n",
        "hr_data_encoded = pd.get_dummies(hr_data)\n",
        "\n",
        "# Split into features and labels\n",
        "X = hr_data_encoded.drop('Attrition', axis=1)\n",
        "y = hr_data_encoded['Attrition']\n",
        "\n",
        "# Standardize the features\n",
        "scaler = StandardScaler()\n",
        "X_scaled = scaler.fit_transform(X)\n",
        "\n",
        "# Split into train and test sets\n",
        "X_train, X_test, y_train, y_test = train_test_split(X_scaled, y, test_size=0.2, random_state=42)\n",
        "\n",
        "# Output shape check\n",
        "X_train.shape, X_test.shape, y_train.shape, y_test.shape\n"
      ],
      "metadata": {
        "colab": {
          "base_uri": "https://localhost:8080/"
        },
        "id": "PTidpm1f6_Wx",
        "outputId": "c4dc7123-0c03-4449-a7a5-edaee7606c35"
      },
      "execution_count": null,
      "outputs": [
        {
          "output_type": "execute_result",
          "data": {
            "text/plain": [
              "((1176, 51), (294, 51), (1176,), (294,))"
            ]
          },
          "metadata": {},
          "execution_count": 7
        }
      ]
    },
    {
      "cell_type": "markdown",
      "source": [
        "**training a dense neural network using different activation functions**\n",
        "\n"
      ],
      "metadata": {
        "id": "YKlkiPcS7wd3"
      }
    },
    {
      "cell_type": "code",
      "source": [
        "import tensorflow as tf\n",
        "from tensorflow.keras.models import Sequential\n",
        "from tensorflow.keras.layers import Dense\n",
        "from tensorflow.keras.callbacks import EarlyStopping\n",
        "from sklearn.metrics import classification_report\n",
        "\n",
        "# Function to build, train, and evaluate model with a given activation function\n",
        "def train_with_activation(activation_name):\n",
        "    model = Sequential([\n",
        "        Dense(64, input_shape=(X_train.shape[1],), activation=activation_name),\n",
        "        Dense(32, activation=activation_name),\n",
        "        Dense(1, activation='sigmoid')  # Output layer for binary classification\n",
        "    ])\n",
        "\n",
        "    model.compile(optimizer='adam', loss='binary_crossentropy', metrics=['accuracy'])\n",
        "\n",
        "    early_stop = EarlyStopping(monitor='val_loss', patience=5, restore_best_weights=True)\n",
        "\n",
        "    history = model.fit(\n",
        "        X_train, y_train,\n",
        "        validation_split=0.2,\n",
        "        epochs=50,\n",
        "        batch_size=32,\n",
        "        callbacks=[early_stop],\n",
        "        verbose=0\n",
        "    )\n",
        "\n",
        "    # Evaluate on test set\n",
        "    test_loss, test_accuracy = model.evaluate(X_test, y_test, verbose=0)\n",
        "    y_pred = (model.predict(X_test) > 0.5).astype(\"int32\")\n",
        "\n",
        "    report = classification_report(y_test, y_pred, output_dict=True)\n",
        "\n",
        "    return {\n",
        "        \"activation\": activation_name,\n",
        "        \"test_accuracy\": test_accuracy,\n",
        "        \"classification_report\": report\n",
        "    }\n",
        "\n",
        "# Run with ReLU activation\n",
        "relu_results = train_with_activation('relu')\n",
        "relu_results\n"
      ],
      "metadata": {
        "colab": {
          "base_uri": "https://localhost:8080/"
        },
        "id": "whaP-E477S35",
        "outputId": "e54ca594-006e-4239-ffd5-edd81787492c"
      },
      "execution_count": null,
      "outputs": [
        {
          "output_type": "stream",
          "name": "stderr",
          "text": [
            "/usr/local/lib/python3.11/dist-packages/keras/src/layers/core/dense.py:87: UserWarning: Do not pass an `input_shape`/`input_dim` argument to a layer. When using Sequential models, prefer using an `Input(shape)` object as the first layer in the model instead.\n",
            "  super().__init__(activity_regularizer=activity_regularizer, **kwargs)\n"
          ]
        },
        {
          "output_type": "stream",
          "name": "stdout",
          "text": [
            "\u001b[1m10/10\u001b[0m \u001b[32m━━━━━━━━━━━━━━━━━━━━\u001b[0m\u001b[37m\u001b[0m \u001b[1m0s\u001b[0m 7ms/step \n"
          ]
        },
        {
          "output_type": "execute_result",
          "data": {
            "text/plain": [
              "{'activation': 'relu',\n",
              " 'test_accuracy': 0.8639456033706665,\n",
              " 'classification_report': {'0': {'precision': 0.8966789667896679,\n",
              "   'recall': 0.9529411764705882,\n",
              "   'f1-score': 0.9239543726235742,\n",
              "   'support': 255.0},\n",
              "  '1': {'precision': 0.4782608695652174,\n",
              "   'recall': 0.28205128205128205,\n",
              "   'f1-score': 0.3548387096774194,\n",
              "   'support': 39.0},\n",
              "  'accuracy': 0.8639455782312925,\n",
              "  'macro avg': {'precision': 0.6874699181774426,\n",
              "   'recall': 0.6174962292609352,\n",
              "   'f1-score': 0.6393965411504967,\n",
              "   'support': 294.0},\n",
              "  'weighted avg': {'precision': 0.8411745253211182,\n",
              "   'recall': 0.8639455782312925,\n",
              "   'f1-score': 0.8484594377429618,\n",
              "   'support': 294.0}}}"
            ]
          },
          "metadata": {},
          "execution_count": 8
        }
      ]
    },
    {
      "cell_type": "markdown",
      "source": [
        "**Train with ReLU Activation**"
      ],
      "metadata": {
        "id": "CAeSUJc-8Dd6"
      }
    },
    {
      "cell_type": "code",
      "source": [
        "import tensorflow as tf\n",
        "from tensorflow.keras.models import Sequential\n",
        "from tensorflow.keras.layers import Dense\n",
        "from tensorflow.keras.callbacks import EarlyStopping\n",
        "from sklearn.metrics import classification_report\n",
        "\n",
        "# Reuse your X_train, X_test, y_train, y_test from earlier preprocessing\n",
        "\n",
        "model = Sequential([\n",
        "    Dense(64, input_shape=(X_train.shape[1],), activation='relu'),\n",
        "    Dense(32, activation='relu'),\n",
        "    Dense(1, activation='sigmoid')  # Output layer for binary classification\n",
        "])\n",
        "\n",
        "model.compile(optimizer='adam', loss='binary_crossentropy', metrics=['accuracy'])\n",
        "\n",
        "early_stop = EarlyStopping(monitor='val_loss', patience=5, restore_best_weights=True)\n",
        "\n",
        "history = model.fit(\n",
        "    X_train, y_train,\n",
        "    validation_split=0.2,\n",
        "    epochs=50,\n",
        "    batch_size=32,\n",
        "    callbacks=[early_stop],\n",
        "    verbose=1\n",
        ")\n",
        "\n",
        "# Evaluate\n",
        "test_loss, test_accuracy = model.evaluate(X_test, y_test)\n",
        "y_pred = (model.predict(X_test) > 0.5).astype(\"int32\")\n",
        "\n",
        "print(\"Test Accuracy:\", test_accuracy)\n",
        "print(\"Classification Report:\\n\", classification_report(y_test, y_pred))\n"
      ],
      "metadata": {
        "colab": {
          "base_uri": "https://localhost:8080/"
        },
        "id": "UDcsxvN57kP-",
        "outputId": "2270a7e7-fb29-4a38-c7d4-73a63ce7da15"
      },
      "execution_count": null,
      "outputs": [
        {
          "output_type": "stream",
          "name": "stdout",
          "text": [
            "Epoch 1/50\n"
          ]
        },
        {
          "output_type": "stream",
          "name": "stderr",
          "text": [
            "/usr/local/lib/python3.11/dist-packages/keras/src/layers/core/dense.py:87: UserWarning: Do not pass an `input_shape`/`input_dim` argument to a layer. When using Sequential models, prefer using an `Input(shape)` object as the first layer in the model instead.\n",
            "  super().__init__(activity_regularizer=activity_regularizer, **kwargs)\n"
          ]
        },
        {
          "output_type": "stream",
          "name": "stdout",
          "text": [
            "\u001b[1m30/30\u001b[0m \u001b[32m━━━━━━━━━━━━━━━━━━━━\u001b[0m\u001b[37m\u001b[0m \u001b[1m3s\u001b[0m 20ms/step - accuracy: 0.8147 - loss: 0.5153 - val_accuracy: 0.7966 - val_loss: 0.4774\n",
            "Epoch 2/50\n",
            "\u001b[1m30/30\u001b[0m \u001b[32m━━━━━━━━━━━━━━━━━━━━\u001b[0m\u001b[37m\u001b[0m \u001b[1m1s\u001b[0m 5ms/step - accuracy: 0.8375 - loss: 0.3818 - val_accuracy: 0.8051 - val_loss: 0.4306\n",
            "Epoch 3/50\n",
            "\u001b[1m30/30\u001b[0m \u001b[32m━━━━━━━━━━━━━━━━━━━━\u001b[0m\u001b[37m\u001b[0m \u001b[1m0s\u001b[0m 6ms/step - accuracy: 0.8755 - loss: 0.3278 - val_accuracy: 0.8347 - val_loss: 0.4072\n",
            "Epoch 4/50\n",
            "\u001b[1m30/30\u001b[0m \u001b[32m━━━━━━━━━━━━━━━━━━━━\u001b[0m\u001b[37m\u001b[0m \u001b[1m0s\u001b[0m 6ms/step - accuracy: 0.8753 - loss: 0.3151 - val_accuracy: 0.8220 - val_loss: 0.4059\n",
            "Epoch 5/50\n",
            "\u001b[1m30/30\u001b[0m \u001b[32m━━━━━━━━━━━━━━━━━━━━\u001b[0m\u001b[37m\u001b[0m \u001b[1m0s\u001b[0m 5ms/step - accuracy: 0.8939 - loss: 0.2811 - val_accuracy: 0.8220 - val_loss: 0.3978\n",
            "Epoch 6/50\n",
            "\u001b[1m30/30\u001b[0m \u001b[32m━━━━━━━━━━━━━━━━━━━━\u001b[0m\u001b[37m\u001b[0m \u001b[1m0s\u001b[0m 6ms/step - accuracy: 0.9043 - loss: 0.2660 - val_accuracy: 0.8220 - val_loss: 0.4027\n",
            "Epoch 7/50\n",
            "\u001b[1m30/30\u001b[0m \u001b[32m━━━━━━━━━━━━━━━━━━━━\u001b[0m\u001b[37m\u001b[0m \u001b[1m0s\u001b[0m 7ms/step - accuracy: 0.9073 - loss: 0.2408 - val_accuracy: 0.8178 - val_loss: 0.4043\n",
            "Epoch 8/50\n",
            "\u001b[1m30/30\u001b[0m \u001b[32m━━━━━━━━━━━━━━━━━━━━\u001b[0m\u001b[37m\u001b[0m \u001b[1m0s\u001b[0m 7ms/step - accuracy: 0.9200 - loss: 0.2008 - val_accuracy: 0.8220 - val_loss: 0.4159\n",
            "Epoch 9/50\n",
            "\u001b[1m30/30\u001b[0m \u001b[32m━━━━━━━━━━━━━━━━━━━━\u001b[0m\u001b[37m\u001b[0m \u001b[1m0s\u001b[0m 7ms/step - accuracy: 0.9267 - loss: 0.1867 - val_accuracy: 0.8136 - val_loss: 0.4125\n",
            "Epoch 10/50\n",
            "\u001b[1m30/30\u001b[0m \u001b[32m━━━━━━━━━━━━━━━━━━━━\u001b[0m\u001b[37m\u001b[0m \u001b[1m0s\u001b[0m 6ms/step - accuracy: 0.9402 - loss: 0.1929 - val_accuracy: 0.8263 - val_loss: 0.4260\n",
            "\u001b[1m10/10\u001b[0m \u001b[32m━━━━━━━━━━━━━━━━━━━━\u001b[0m\u001b[37m\u001b[0m \u001b[1m0s\u001b[0m 6ms/step - accuracy: 0.8468 - loss: 0.3546 \n",
            "\u001b[1m10/10\u001b[0m \u001b[32m━━━━━━━━━━━━━━━━━━━━\u001b[0m\u001b[37m\u001b[0m \u001b[1m0s\u001b[0m 10ms/step\n",
            "Test Accuracy: 0.8605442047119141\n",
            "Classification Report:\n",
            "               precision    recall  f1-score   support\n",
            "\n",
            "           0       0.89      0.96      0.92       255\n",
            "           1       0.45      0.23      0.31        39\n",
            "\n",
            "    accuracy                           0.86       294\n",
            "   macro avg       0.67      0.59      0.61       294\n",
            "weighted avg       0.83      0.86      0.84       294\n",
            "\n"
          ]
        }
      ]
    },
    {
      "cell_type": "code",
      "source": [
        "from sklearn.model_selection import train_test_split\n",
        "from sklearn.preprocessing import StandardScaler\n",
        "\n",
        "X = hr_data_encoded.drop('Attrition', axis=1)\n",
        "y = hr_data_encoded['Attrition']\n",
        "\n",
        "scaler = StandardScaler()\n",
        "X_scaled = scaler.fit_transform(X)\n",
        "\n",
        "X_train, X_test, y_train, y_test = train_test_split(X_scaled, y, test_size=0.2, random_state=42)"
      ],
      "metadata": {
        "id": "0HKwleUk7-V2"
      },
      "execution_count": null,
      "outputs": []
    },
    {
      "cell_type": "markdown",
      "source": [
        "**1. ReLU Activation**"
      ],
      "metadata": {
        "id": "eIoa_gDk8ga8"
      }
    },
    {
      "cell_type": "code",
      "source": [
        "model_relu = tf.keras.Sequential([\n",
        "    tf.keras.layers.Dense(64, activation='relu', input_shape=(X_train.shape[1],)),\n",
        "    tf.keras.layers.Dense(32, activation='relu'),\n",
        "    tf.keras.layers.Dense(1, activation='sigmoid')\n",
        "])\n",
        "\n",
        "model_relu.compile(optimizer='adam', loss='binary_crossentropy', metrics=['accuracy'])\n",
        "model_relu.fit(X_train, y_train, epochs=50, validation_split=0.2, batch_size=32, verbose=1)\n",
        "\n",
        "# Evaluate\n",
        "y_pred_relu = (model_relu.predict(X_test) > 0.5).astype(\"int32\")\n",
        "print(\"ReLU:\\n\", classification_report(y_test, y_pred_relu))\n"
      ],
      "metadata": {
        "colab": {
          "base_uri": "https://localhost:8080/"
        },
        "id": "NYTKf0v38c8L",
        "outputId": "bc79e46a-af86-419d-b5a1-526a0a494131"
      },
      "execution_count": null,
      "outputs": [
        {
          "output_type": "stream",
          "name": "stdout",
          "text": [
            "Epoch 1/50\n"
          ]
        },
        {
          "output_type": "stream",
          "name": "stderr",
          "text": [
            "/usr/local/lib/python3.11/dist-packages/keras/src/layers/core/dense.py:87: UserWarning: Do not pass an `input_shape`/`input_dim` argument to a layer. When using Sequential models, prefer using an `Input(shape)` object as the first layer in the model instead.\n",
            "  super().__init__(activity_regularizer=activity_regularizer, **kwargs)\n"
          ]
        },
        {
          "output_type": "stream",
          "name": "stdout",
          "text": [
            "\u001b[1m30/30\u001b[0m \u001b[32m━━━━━━━━━━━━━━━━━━━━\u001b[0m\u001b[37m\u001b[0m \u001b[1m2s\u001b[0m 19ms/step - accuracy: 0.8379 - loss: 0.4927 - val_accuracy: 0.7966 - val_loss: 0.4647\n",
            "Epoch 2/50\n",
            "\u001b[1m30/30\u001b[0m \u001b[32m━━━━━━━━━━━━━━━━━━━━\u001b[0m\u001b[37m\u001b[0m \u001b[1m0s\u001b[0m 7ms/step - accuracy: 0.8380 - loss: 0.3844 - val_accuracy: 0.8051 - val_loss: 0.4273\n",
            "Epoch 3/50\n",
            "\u001b[1m30/30\u001b[0m \u001b[32m━━━━━━━━━━━━━━━━━━━━\u001b[0m\u001b[37m\u001b[0m \u001b[1m0s\u001b[0m 5ms/step - accuracy: 0.8449 - loss: 0.3240 - val_accuracy: 0.8178 - val_loss: 0.4109\n",
            "Epoch 4/50\n",
            "\u001b[1m30/30\u001b[0m \u001b[32m━━━━━━━━━━━━━━━━━━━━\u001b[0m\u001b[37m\u001b[0m \u001b[1m0s\u001b[0m 6ms/step - accuracy: 0.8634 - loss: 0.2989 - val_accuracy: 0.8220 - val_loss: 0.4071\n",
            "Epoch 5/50\n",
            "\u001b[1m30/30\u001b[0m \u001b[32m━━━━━━━━━━━━━━━━━━━━\u001b[0m\u001b[37m\u001b[0m \u001b[1m0s\u001b[0m 8ms/step - accuracy: 0.8874 - loss: 0.2737 - val_accuracy: 0.8347 - val_loss: 0.4041\n",
            "Epoch 6/50\n",
            "\u001b[1m30/30\u001b[0m \u001b[32m━━━━━━━━━━━━━━━━━━━━\u001b[0m\u001b[37m\u001b[0m \u001b[1m0s\u001b[0m 7ms/step - accuracy: 0.9054 - loss: 0.2454 - val_accuracy: 0.8432 - val_loss: 0.4048\n",
            "Epoch 7/50\n",
            "\u001b[1m30/30\u001b[0m \u001b[32m━━━━━━━━━━━━━━━━━━━━\u001b[0m\u001b[37m\u001b[0m \u001b[1m0s\u001b[0m 8ms/step - accuracy: 0.9135 - loss: 0.2329 - val_accuracy: 0.8432 - val_loss: 0.4132\n",
            "Epoch 8/50\n",
            "\u001b[1m30/30\u001b[0m \u001b[32m━━━━━━━━━━━━━━━━━━━━\u001b[0m\u001b[37m\u001b[0m \u001b[1m0s\u001b[0m 7ms/step - accuracy: 0.9179 - loss: 0.2099 - val_accuracy: 0.8347 - val_loss: 0.4179\n",
            "Epoch 9/50\n",
            "\u001b[1m30/30\u001b[0m \u001b[32m━━━━━━━━━━━━━━━━━━━━\u001b[0m\u001b[37m\u001b[0m \u001b[1m0s\u001b[0m 7ms/step - accuracy: 0.9345 - loss: 0.1830 - val_accuracy: 0.8263 - val_loss: 0.4259\n",
            "Epoch 10/50\n",
            "\u001b[1m30/30\u001b[0m \u001b[32m━━━━━━━━━━━━━━━━━━━━\u001b[0m\u001b[37m\u001b[0m \u001b[1m0s\u001b[0m 8ms/step - accuracy: 0.9245 - loss: 0.1970 - val_accuracy: 0.8347 - val_loss: 0.4406\n",
            "Epoch 11/50\n",
            "\u001b[1m30/30\u001b[0m \u001b[32m━━━━━━━━━━━━━━━━━━━━\u001b[0m\u001b[37m\u001b[0m \u001b[1m0s\u001b[0m 8ms/step - accuracy: 0.9288 - loss: 0.1733 - val_accuracy: 0.8136 - val_loss: 0.4494\n",
            "Epoch 12/50\n",
            "\u001b[1m30/30\u001b[0m \u001b[32m━━━━━━━━━━━━━━━━━━━━\u001b[0m\u001b[37m\u001b[0m \u001b[1m0s\u001b[0m 5ms/step - accuracy: 0.9453 - loss: 0.1520 - val_accuracy: 0.8220 - val_loss: 0.4622\n",
            "Epoch 13/50\n",
            "\u001b[1m30/30\u001b[0m \u001b[32m━━━━━━━━━━━━━━━━━━━━\u001b[0m\u001b[37m\u001b[0m \u001b[1m0s\u001b[0m 5ms/step - accuracy: 0.9476 - loss: 0.1513 - val_accuracy: 0.8178 - val_loss: 0.4754\n",
            "Epoch 14/50\n",
            "\u001b[1m30/30\u001b[0m \u001b[32m━━━━━━━━━━━━━━━━━━━━\u001b[0m\u001b[37m\u001b[0m \u001b[1m0s\u001b[0m 4ms/step - accuracy: 0.9504 - loss: 0.1444 - val_accuracy: 0.8136 - val_loss: 0.4855\n",
            "Epoch 15/50\n",
            "\u001b[1m30/30\u001b[0m \u001b[32m━━━━━━━━━━━━━━━━━━━━\u001b[0m\u001b[37m\u001b[0m \u001b[1m0s\u001b[0m 5ms/step - accuracy: 0.9602 - loss: 0.1264 - val_accuracy: 0.8136 - val_loss: 0.4943\n",
            "Epoch 16/50\n",
            "\u001b[1m30/30\u001b[0m \u001b[32m━━━━━━━━━━━━━━━━━━━━\u001b[0m\u001b[37m\u001b[0m \u001b[1m0s\u001b[0m 5ms/step - accuracy: 0.9632 - loss: 0.1402 - val_accuracy: 0.8136 - val_loss: 0.5345\n",
            "Epoch 17/50\n",
            "\u001b[1m30/30\u001b[0m \u001b[32m━━━━━━━━━━━━━━━━━━━━\u001b[0m\u001b[37m\u001b[0m \u001b[1m0s\u001b[0m 4ms/step - accuracy: 0.9606 - loss: 0.1243 - val_accuracy: 0.8136 - val_loss: 0.5377\n",
            "Epoch 18/50\n",
            "\u001b[1m30/30\u001b[0m \u001b[32m━━━━━━━━━━━━━━━━━━━━\u001b[0m\u001b[37m\u001b[0m \u001b[1m0s\u001b[0m 5ms/step - accuracy: 0.9793 - loss: 0.1061 - val_accuracy: 0.8136 - val_loss: 0.5411\n",
            "Epoch 19/50\n",
            "\u001b[1m30/30\u001b[0m \u001b[32m━━━━━━━━━━━━━━━━━━━━\u001b[0m\u001b[37m\u001b[0m \u001b[1m0s\u001b[0m 5ms/step - accuracy: 0.9714 - loss: 0.0948 - val_accuracy: 0.8178 - val_loss: 0.5587\n",
            "Epoch 20/50\n",
            "\u001b[1m30/30\u001b[0m \u001b[32m━━━━━━━━━━━━━━━━━━━━\u001b[0m\u001b[37m\u001b[0m \u001b[1m0s\u001b[0m 4ms/step - accuracy: 0.9851 - loss: 0.0852 - val_accuracy: 0.8178 - val_loss: 0.6039\n",
            "Epoch 21/50\n",
            "\u001b[1m30/30\u001b[0m \u001b[32m━━━━━━━━━━━━━━━━━━━━\u001b[0m\u001b[37m\u001b[0m \u001b[1m0s\u001b[0m 5ms/step - accuracy: 0.9845 - loss: 0.0715 - val_accuracy: 0.8220 - val_loss: 0.5944\n",
            "Epoch 22/50\n",
            "\u001b[1m30/30\u001b[0m \u001b[32m━━━━━━━━━━━━━━━━━━━━\u001b[0m\u001b[37m\u001b[0m \u001b[1m0s\u001b[0m 5ms/step - accuracy: 0.9890 - loss: 0.0640 - val_accuracy: 0.8178 - val_loss: 0.6104\n",
            "Epoch 23/50\n",
            "\u001b[1m30/30\u001b[0m \u001b[32m━━━━━━━━━━━━━━━━━━━━\u001b[0m\u001b[37m\u001b[0m \u001b[1m0s\u001b[0m 4ms/step - accuracy: 0.9892 - loss: 0.0645 - val_accuracy: 0.8178 - val_loss: 0.6487\n",
            "Epoch 24/50\n",
            "\u001b[1m30/30\u001b[0m \u001b[32m━━━━━━━━━━━━━━━━━━━━\u001b[0m\u001b[37m\u001b[0m \u001b[1m0s\u001b[0m 5ms/step - accuracy: 0.9861 - loss: 0.0622 - val_accuracy: 0.8178 - val_loss: 0.6666\n",
            "Epoch 25/50\n",
            "\u001b[1m30/30\u001b[0m \u001b[32m━━━━━━━━━━━━━━━━━━━━\u001b[0m\u001b[37m\u001b[0m \u001b[1m0s\u001b[0m 4ms/step - accuracy: 0.9906 - loss: 0.0607 - val_accuracy: 0.8136 - val_loss: 0.6823\n",
            "Epoch 26/50\n",
            "\u001b[1m30/30\u001b[0m \u001b[32m━━━━━━━━━━━━━━━━━━━━\u001b[0m\u001b[37m\u001b[0m \u001b[1m0s\u001b[0m 6ms/step - accuracy: 0.9952 - loss: 0.0452 - val_accuracy: 0.8136 - val_loss: 0.6991\n",
            "Epoch 27/50\n",
            "\u001b[1m30/30\u001b[0m \u001b[32m━━━━━━━━━━━━━━━━━━━━\u001b[0m\u001b[37m\u001b[0m \u001b[1m0s\u001b[0m 4ms/step - accuracy: 0.9950 - loss: 0.0430 - val_accuracy: 0.8093 - val_loss: 0.7134\n",
            "Epoch 28/50\n",
            "\u001b[1m30/30\u001b[0m \u001b[32m━━━━━━━━━━━━━━━━━━━━\u001b[0m\u001b[37m\u001b[0m \u001b[1m0s\u001b[0m 6ms/step - accuracy: 0.9941 - loss: 0.0428 - val_accuracy: 0.8093 - val_loss: 0.7506\n",
            "Epoch 29/50\n",
            "\u001b[1m30/30\u001b[0m \u001b[32m━━━━━━━━━━━━━━━━━━━━\u001b[0m\u001b[37m\u001b[0m \u001b[1m0s\u001b[0m 5ms/step - accuracy: 0.9980 - loss: 0.0376 - val_accuracy: 0.8136 - val_loss: 0.7742\n",
            "Epoch 30/50\n",
            "\u001b[1m30/30\u001b[0m \u001b[32m━━━━━━━━━━━━━━━━━━━━\u001b[0m\u001b[37m\u001b[0m \u001b[1m0s\u001b[0m 5ms/step - accuracy: 0.9968 - loss: 0.0308 - val_accuracy: 0.8008 - val_loss: 0.7805\n",
            "Epoch 31/50\n",
            "\u001b[1m30/30\u001b[0m \u001b[32m━━━━━━━━━━━━━━━━━━━━\u001b[0m\u001b[37m\u001b[0m \u001b[1m0s\u001b[0m 5ms/step - accuracy: 0.9960 - loss: 0.0295 - val_accuracy: 0.8136 - val_loss: 0.8238\n",
            "Epoch 32/50\n",
            "\u001b[1m30/30\u001b[0m \u001b[32m━━━━━━━━━━━━━━━━━━━━\u001b[0m\u001b[37m\u001b[0m \u001b[1m0s\u001b[0m 5ms/step - accuracy: 0.9991 - loss: 0.0261 - val_accuracy: 0.8136 - val_loss: 0.8327\n",
            "Epoch 33/50\n",
            "\u001b[1m30/30\u001b[0m \u001b[32m━━━━━━━━━━━━━━━━━━━━\u001b[0m\u001b[37m\u001b[0m \u001b[1m0s\u001b[0m 5ms/step - accuracy: 0.9997 - loss: 0.0257 - val_accuracy: 0.8178 - val_loss: 0.8595\n",
            "Epoch 34/50\n",
            "\u001b[1m30/30\u001b[0m \u001b[32m━━━━━━━━━━━━━━━━━━━━\u001b[0m\u001b[37m\u001b[0m \u001b[1m0s\u001b[0m 5ms/step - accuracy: 0.9991 - loss: 0.0224 - val_accuracy: 0.8136 - val_loss: 0.8699\n",
            "Epoch 35/50\n",
            "\u001b[1m30/30\u001b[0m \u001b[32m━━━━━━━━━━━━━━━━━━━━\u001b[0m\u001b[37m\u001b[0m \u001b[1m0s\u001b[0m 9ms/step - accuracy: 1.0000 - loss: 0.0208 - val_accuracy: 0.8136 - val_loss: 0.9136\n",
            "Epoch 36/50\n",
            "\u001b[1m30/30\u001b[0m \u001b[32m━━━━━━━━━━━━━━━━━━━━\u001b[0m\u001b[37m\u001b[0m \u001b[1m1s\u001b[0m 7ms/step - accuracy: 1.0000 - loss: 0.0184 - val_accuracy: 0.8136 - val_loss: 0.9247\n",
            "Epoch 37/50\n",
            "\u001b[1m30/30\u001b[0m \u001b[32m━━━━━━━━━━━━━━━━━━━━\u001b[0m\u001b[37m\u001b[0m \u001b[1m0s\u001b[0m 7ms/step - accuracy: 1.0000 - loss: 0.0182 - val_accuracy: 0.8093 - val_loss: 0.9424\n",
            "Epoch 38/50\n",
            "\u001b[1m30/30\u001b[0m \u001b[32m━━━━━━━━━━━━━━━━━━━━\u001b[0m\u001b[37m\u001b[0m \u001b[1m0s\u001b[0m 8ms/step - accuracy: 1.0000 - loss: 0.0139 - val_accuracy: 0.8093 - val_loss: 0.9494\n",
            "Epoch 39/50\n",
            "\u001b[1m30/30\u001b[0m \u001b[32m━━━━━━━━━━━━━━━━━━━━\u001b[0m\u001b[37m\u001b[0m \u001b[1m0s\u001b[0m 7ms/step - accuracy: 1.0000 - loss: 0.0127 - val_accuracy: 0.8093 - val_loss: 0.9794\n",
            "Epoch 40/50\n",
            "\u001b[1m30/30\u001b[0m \u001b[32m━━━━━━━━━━━━━━━━━━━━\u001b[0m\u001b[37m\u001b[0m \u001b[1m0s\u001b[0m 8ms/step - accuracy: 0.9994 - loss: 0.0135 - val_accuracy: 0.8136 - val_loss: 0.9890\n",
            "Epoch 41/50\n",
            "\u001b[1m30/30\u001b[0m \u001b[32m━━━━━━━━━━━━━━━━━━━━\u001b[0m\u001b[37m\u001b[0m \u001b[1m0s\u001b[0m 5ms/step - accuracy: 1.0000 - loss: 0.0121 - val_accuracy: 0.8178 - val_loss: 1.0306\n",
            "Epoch 42/50\n",
            "\u001b[1m30/30\u001b[0m \u001b[32m━━━━━━━━━━━━━━━━━━━━\u001b[0m\u001b[37m\u001b[0m \u001b[1m0s\u001b[0m 5ms/step - accuracy: 1.0000 - loss: 0.0107 - val_accuracy: 0.8136 - val_loss: 1.0373\n",
            "Epoch 43/50\n",
            "\u001b[1m30/30\u001b[0m \u001b[32m━━━━━━━━━━━━━━━━━━━━\u001b[0m\u001b[37m\u001b[0m \u001b[1m0s\u001b[0m 5ms/step - accuracy: 1.0000 - loss: 0.0101 - val_accuracy: 0.8093 - val_loss: 1.0480\n",
            "Epoch 44/50\n",
            "\u001b[1m30/30\u001b[0m \u001b[32m━━━━━━━━━━━━━━━━━━━━\u001b[0m\u001b[37m\u001b[0m \u001b[1m0s\u001b[0m 5ms/step - accuracy: 1.0000 - loss: 0.0094 - val_accuracy: 0.8136 - val_loss: 1.0773\n",
            "Epoch 45/50\n",
            "\u001b[1m30/30\u001b[0m \u001b[32m━━━━━━━━━━━━━━━━━━━━\u001b[0m\u001b[37m\u001b[0m \u001b[1m0s\u001b[0m 5ms/step - accuracy: 1.0000 - loss: 0.0096 - val_accuracy: 0.8136 - val_loss: 1.1007\n",
            "Epoch 46/50\n",
            "\u001b[1m30/30\u001b[0m \u001b[32m━━━━━━━━━━━━━━━━━━━━\u001b[0m\u001b[37m\u001b[0m \u001b[1m0s\u001b[0m 5ms/step - accuracy: 1.0000 - loss: 0.0082 - val_accuracy: 0.8093 - val_loss: 1.1072\n",
            "Epoch 47/50\n",
            "\u001b[1m30/30\u001b[0m \u001b[32m━━━━━━━━━━━━━━━━━━━━\u001b[0m\u001b[37m\u001b[0m \u001b[1m0s\u001b[0m 5ms/step - accuracy: 1.0000 - loss: 0.0079 - val_accuracy: 0.8136 - val_loss: 1.1240\n",
            "Epoch 48/50\n",
            "\u001b[1m30/30\u001b[0m \u001b[32m━━━━━━━━━━━━━━━━━━━━\u001b[0m\u001b[37m\u001b[0m \u001b[1m0s\u001b[0m 5ms/step - accuracy: 1.0000 - loss: 0.0069 - val_accuracy: 0.8136 - val_loss: 1.1448\n",
            "Epoch 49/50\n",
            "\u001b[1m30/30\u001b[0m \u001b[32m━━━━━━━━━━━━━━━━━━━━\u001b[0m\u001b[37m\u001b[0m \u001b[1m0s\u001b[0m 8ms/step - accuracy: 1.0000 - loss: 0.0064 - val_accuracy: 0.8093 - val_loss: 1.1596\n",
            "Epoch 50/50\n",
            "\u001b[1m30/30\u001b[0m \u001b[32m━━━━━━━━━━━━━━━━━━━━\u001b[0m\u001b[37m\u001b[0m \u001b[1m0s\u001b[0m 7ms/step - accuracy: 1.0000 - loss: 0.0052 - val_accuracy: 0.8136 - val_loss: 1.1721\n",
            "\u001b[1m10/10\u001b[0m \u001b[32m━━━━━━━━━━━━━━━━━━━━\u001b[0m\u001b[37m\u001b[0m \u001b[1m0s\u001b[0m 11ms/step\n",
            "ReLU:\n",
            "               precision    recall  f1-score   support\n",
            "\n",
            "           0       0.89      0.93      0.91       255\n",
            "           1       0.39      0.28      0.33        39\n",
            "\n",
            "    accuracy                           0.85       294\n",
            "   macro avg       0.64      0.61      0.62       294\n",
            "weighted avg       0.83      0.85      0.84       294\n",
            "\n"
          ]
        }
      ]
    },
    {
      "cell_type": "markdown",
      "source": [
        "**2. Tanh Activation**"
      ],
      "metadata": {
        "id": "5EvJZEht8vFN"
      }
    },
    {
      "cell_type": "code",
      "source": [
        "model_tanh = tf.keras.Sequential([\n",
        "    tf.keras.layers.Dense(64, activation='tanh', input_shape=(X_train.shape[1],)),\n",
        "    tf.keras.layers.Dense(32, activation='tanh'),\n",
        "    tf.keras.layers.Dense(1, activation='sigmoid')\n",
        "])\n",
        "\n",
        "model_tanh.compile(optimizer='adam', loss='binary_crossentropy', metrics=['accuracy'])\n",
        "model_tanh.fit(X_train, y_train, epochs=50, validation_split=0.2, batch_size=32, verbose=1)\n",
        "\n",
        "y_pred_tanh = (model_tanh.predict(X_test) > 0.5).astype(\"int32\")\n",
        "print(\"Tanh:\\n\", classification_report(y_test, y_pred_tanh))\n"
      ],
      "metadata": {
        "colab": {
          "base_uri": "https://localhost:8080/"
        },
        "id": "ysQM_Zft8m1L",
        "outputId": "adad9f20-3372-48f3-a71f-e1de57d16f59"
      },
      "execution_count": null,
      "outputs": [
        {
          "output_type": "stream",
          "name": "stdout",
          "text": [
            "Epoch 1/50\n"
          ]
        },
        {
          "output_type": "stream",
          "name": "stderr",
          "text": [
            "/usr/local/lib/python3.11/dist-packages/keras/src/layers/core/dense.py:87: UserWarning: Do not pass an `input_shape`/`input_dim` argument to a layer. When using Sequential models, prefer using an `Input(shape)` object as the first layer in the model instead.\n",
            "  super().__init__(activity_regularizer=activity_regularizer, **kwargs)\n"
          ]
        },
        {
          "output_type": "stream",
          "name": "stdout",
          "text": [
            "\u001b[1m30/30\u001b[0m \u001b[32m━━━━━━━━━━━━━━━━━━━━\u001b[0m\u001b[37m\u001b[0m \u001b[1m3s\u001b[0m 35ms/step - accuracy: 0.5757 - loss: 0.6950 - val_accuracy: 0.7076 - val_loss: 0.5586\n",
            "Epoch 2/50\n",
            "\u001b[1m30/30\u001b[0m \u001b[32m━━━━━━━━━━━━━━━━━━━━\u001b[0m\u001b[37m\u001b[0m \u001b[1m0s\u001b[0m 7ms/step - accuracy: 0.7844 - loss: 0.4887 - val_accuracy: 0.8178 - val_loss: 0.4687\n",
            "Epoch 3/50\n",
            "\u001b[1m30/30\u001b[0m \u001b[32m━━━━━━━━━━━━━━━━━━━━\u001b[0m\u001b[37m\u001b[0m \u001b[1m0s\u001b[0m 7ms/step - accuracy: 0.8565 - loss: 0.3691 - val_accuracy: 0.8220 - val_loss: 0.4144\n",
            "Epoch 4/50\n",
            "\u001b[1m30/30\u001b[0m \u001b[32m━━━━━━━━━━━━━━━━━━━━\u001b[0m\u001b[37m\u001b[0m \u001b[1m0s\u001b[0m 7ms/step - accuracy: 0.8706 - loss: 0.3337 - val_accuracy: 0.8220 - val_loss: 0.3906\n",
            "Epoch 5/50\n",
            "\u001b[1m30/30\u001b[0m \u001b[32m━━━━━━━━━━━━━━━━━━━━\u001b[0m\u001b[37m\u001b[0m \u001b[1m0s\u001b[0m 8ms/step - accuracy: 0.8973 - loss: 0.2712 - val_accuracy: 0.8220 - val_loss: 0.3863\n",
            "Epoch 6/50\n",
            "\u001b[1m30/30\u001b[0m \u001b[32m━━━━━━━━━━━━━━━━━━━━\u001b[0m\u001b[37m\u001b[0m \u001b[1m0s\u001b[0m 7ms/step - accuracy: 0.9100 - loss: 0.2464 - val_accuracy: 0.8220 - val_loss: 0.3761\n",
            "Epoch 7/50\n",
            "\u001b[1m30/30\u001b[0m \u001b[32m━━━━━━━━━━━━━━━━━━━━\u001b[0m\u001b[37m\u001b[0m \u001b[1m0s\u001b[0m 5ms/step - accuracy: 0.8884 - loss: 0.2619 - val_accuracy: 0.8390 - val_loss: 0.3771\n",
            "Epoch 8/50\n",
            "\u001b[1m30/30\u001b[0m \u001b[32m━━━━━━━━━━━━━━━━━━━━\u001b[0m\u001b[37m\u001b[0m \u001b[1m0s\u001b[0m 6ms/step - accuracy: 0.9222 - loss: 0.2388 - val_accuracy: 0.8178 - val_loss: 0.3899\n",
            "Epoch 9/50\n",
            "\u001b[1m30/30\u001b[0m \u001b[32m━━━━━━━━━━━━━━━━━━━━\u001b[0m\u001b[37m\u001b[0m \u001b[1m0s\u001b[0m 5ms/step - accuracy: 0.9154 - loss: 0.2237 - val_accuracy: 0.8305 - val_loss: 0.3803\n",
            "Epoch 10/50\n",
            "\u001b[1m30/30\u001b[0m \u001b[32m━━━━━━━━━━━━━━━━━━━━\u001b[0m\u001b[37m\u001b[0m \u001b[1m0s\u001b[0m 5ms/step - accuracy: 0.9287 - loss: 0.2054 - val_accuracy: 0.8051 - val_loss: 0.3910\n",
            "Epoch 11/50\n",
            "\u001b[1m30/30\u001b[0m \u001b[32m━━━━━━━━━━━━━━━━━━━━\u001b[0m\u001b[37m\u001b[0m \u001b[1m0s\u001b[0m 5ms/step - accuracy: 0.9273 - loss: 0.2042 - val_accuracy: 0.8220 - val_loss: 0.3925\n",
            "Epoch 12/50\n",
            "\u001b[1m30/30\u001b[0m \u001b[32m━━━━━━━━━━━━━━━━━━━━\u001b[0m\u001b[37m\u001b[0m \u001b[1m0s\u001b[0m 5ms/step - accuracy: 0.9179 - loss: 0.2084 - val_accuracy: 0.8093 - val_loss: 0.3927\n",
            "Epoch 13/50\n",
            "\u001b[1m30/30\u001b[0m \u001b[32m━━━━━━━━━━━━━━━━━━━━\u001b[0m\u001b[37m\u001b[0m \u001b[1m0s\u001b[0m 5ms/step - accuracy: 0.9248 - loss: 0.1970 - val_accuracy: 0.8093 - val_loss: 0.4006\n",
            "Epoch 14/50\n",
            "\u001b[1m30/30\u001b[0m \u001b[32m━━━━━━━━━━━━━━━━━━━━\u001b[0m\u001b[37m\u001b[0m \u001b[1m0s\u001b[0m 5ms/step - accuracy: 0.9399 - loss: 0.1898 - val_accuracy: 0.8136 - val_loss: 0.3984\n",
            "Epoch 15/50\n",
            "\u001b[1m30/30\u001b[0m \u001b[32m━━━━━━━━━━━━━━━━━━━━\u001b[0m\u001b[37m\u001b[0m \u001b[1m0s\u001b[0m 6ms/step - accuracy: 0.9346 - loss: 0.1839 - val_accuracy: 0.8093 - val_loss: 0.4086\n",
            "Epoch 16/50\n",
            "\u001b[1m30/30\u001b[0m \u001b[32m━━━━━━━━━━━━━━━━━━━━\u001b[0m\u001b[37m\u001b[0m \u001b[1m0s\u001b[0m 5ms/step - accuracy: 0.9459 - loss: 0.1591 - val_accuracy: 0.8093 - val_loss: 0.4133\n",
            "Epoch 17/50\n",
            "\u001b[1m30/30\u001b[0m \u001b[32m━━━━━━━━━━━━━━━━━━━━\u001b[0m\u001b[37m\u001b[0m \u001b[1m0s\u001b[0m 5ms/step - accuracy: 0.9295 - loss: 0.1663 - val_accuracy: 0.8136 - val_loss: 0.4157\n",
            "Epoch 18/50\n",
            "\u001b[1m30/30\u001b[0m \u001b[32m━━━━━━━━━━━━━━━━━━━━\u001b[0m\u001b[37m\u001b[0m \u001b[1m0s\u001b[0m 6ms/step - accuracy: 0.9480 - loss: 0.1667 - val_accuracy: 0.8178 - val_loss: 0.4153\n",
            "Epoch 19/50\n",
            "\u001b[1m30/30\u001b[0m \u001b[32m━━━━━━━━━━━━━━━━━━━━\u001b[0m\u001b[37m\u001b[0m \u001b[1m0s\u001b[0m 5ms/step - accuracy: 0.9589 - loss: 0.1354 - val_accuracy: 0.8051 - val_loss: 0.4209\n",
            "Epoch 20/50\n",
            "\u001b[1m30/30\u001b[0m \u001b[32m━━━━━━━━━━━━━━━━━━━━\u001b[0m\u001b[37m\u001b[0m \u001b[1m0s\u001b[0m 5ms/step - accuracy: 0.9595 - loss: 0.1284 - val_accuracy: 0.8093 - val_loss: 0.4329\n",
            "Epoch 21/50\n",
            "\u001b[1m30/30\u001b[0m \u001b[32m━━━━━━━━━━━━━━━━━━━━\u001b[0m\u001b[37m\u001b[0m \u001b[1m0s\u001b[0m 5ms/step - accuracy: 0.9600 - loss: 0.1351 - val_accuracy: 0.8051 - val_loss: 0.4294\n",
            "Epoch 22/50\n",
            "\u001b[1m30/30\u001b[0m \u001b[32m━━━━━━━━━━━━━━━━━━━━\u001b[0m\u001b[37m\u001b[0m \u001b[1m0s\u001b[0m 5ms/step - accuracy: 0.9717 - loss: 0.1089 - val_accuracy: 0.8136 - val_loss: 0.4368\n",
            "Epoch 23/50\n",
            "\u001b[1m30/30\u001b[0m \u001b[32m━━━━━━━━━━━━━━━━━━━━\u001b[0m\u001b[37m\u001b[0m \u001b[1m0s\u001b[0m 5ms/step - accuracy: 0.9716 - loss: 0.1156 - val_accuracy: 0.8008 - val_loss: 0.4582\n",
            "Epoch 24/50\n",
            "\u001b[1m30/30\u001b[0m \u001b[32m━━━━━━━━━━━━━━━━━━━━\u001b[0m\u001b[37m\u001b[0m \u001b[1m0s\u001b[0m 5ms/step - accuracy: 0.9790 - loss: 0.1064 - val_accuracy: 0.8178 - val_loss: 0.4544\n",
            "Epoch 25/50\n",
            "\u001b[1m30/30\u001b[0m \u001b[32m━━━━━━━━━━━━━━━━━━━━\u001b[0m\u001b[37m\u001b[0m \u001b[1m0s\u001b[0m 5ms/step - accuracy: 0.9753 - loss: 0.1052 - val_accuracy: 0.8093 - val_loss: 0.4516\n",
            "Epoch 26/50\n",
            "\u001b[1m30/30\u001b[0m \u001b[32m━━━━━━━━━━━━━━━━━━━━\u001b[0m\u001b[37m\u001b[0m \u001b[1m0s\u001b[0m 5ms/step - accuracy: 0.9810 - loss: 0.0939 - val_accuracy: 0.8093 - val_loss: 0.4605\n",
            "Epoch 27/50\n",
            "\u001b[1m30/30\u001b[0m \u001b[32m━━━━━━━━━━━━━━━━━━━━\u001b[0m\u001b[37m\u001b[0m \u001b[1m0s\u001b[0m 5ms/step - accuracy: 0.9749 - loss: 0.0892 - val_accuracy: 0.8093 - val_loss: 0.4904\n",
            "Epoch 28/50\n",
            "\u001b[1m30/30\u001b[0m \u001b[32m━━━━━━━━━━━━━━━━━━━━\u001b[0m\u001b[37m\u001b[0m \u001b[1m0s\u001b[0m 5ms/step - accuracy: 0.9830 - loss: 0.0899 - val_accuracy: 0.8051 - val_loss: 0.4974\n",
            "Epoch 29/50\n",
            "\u001b[1m30/30\u001b[0m \u001b[32m━━━━━━━━━━━━━━━━━━━━\u001b[0m\u001b[37m\u001b[0m \u001b[1m0s\u001b[0m 5ms/step - accuracy: 0.9886 - loss: 0.0687 - val_accuracy: 0.8093 - val_loss: 0.4956\n",
            "Epoch 30/50\n",
            "\u001b[1m30/30\u001b[0m \u001b[32m━━━━━━━━━━━━━━━━━━━━\u001b[0m\u001b[37m\u001b[0m \u001b[1m0s\u001b[0m 5ms/step - accuracy: 0.9901 - loss: 0.0639 - val_accuracy: 0.8008 - val_loss: 0.5079\n",
            "Epoch 31/50\n",
            "\u001b[1m30/30\u001b[0m \u001b[32m━━━━━━━━━━━━━━━━━━━━\u001b[0m\u001b[37m\u001b[0m \u001b[1m0s\u001b[0m 5ms/step - accuracy: 0.9938 - loss: 0.0557 - val_accuracy: 0.8093 - val_loss: 0.5210\n",
            "Epoch 32/50\n",
            "\u001b[1m30/30\u001b[0m \u001b[32m━━━━━━━━━━━━━━━━━━━━\u001b[0m\u001b[37m\u001b[0m \u001b[1m0s\u001b[0m 5ms/step - accuracy: 0.9963 - loss: 0.0475 - val_accuracy: 0.7924 - val_loss: 0.5327\n",
            "Epoch 33/50\n",
            "\u001b[1m30/30\u001b[0m \u001b[32m━━━━━━━━━━━━━━━━━━━━\u001b[0m\u001b[37m\u001b[0m \u001b[1m0s\u001b[0m 5ms/step - accuracy: 0.9942 - loss: 0.0450 - val_accuracy: 0.8008 - val_loss: 0.5159\n",
            "Epoch 34/50\n",
            "\u001b[1m30/30\u001b[0m \u001b[32m━━━━━━━━━━━━━━━━━━━━\u001b[0m\u001b[37m\u001b[0m \u001b[1m0s\u001b[0m 6ms/step - accuracy: 0.9949 - loss: 0.0478 - val_accuracy: 0.8136 - val_loss: 0.5359\n",
            "Epoch 35/50\n",
            "\u001b[1m30/30\u001b[0m \u001b[32m━━━━━━━━━━━━━━━━━━━━\u001b[0m\u001b[37m\u001b[0m \u001b[1m0s\u001b[0m 5ms/step - accuracy: 0.9989 - loss: 0.0341 - val_accuracy: 0.8051 - val_loss: 0.5495\n",
            "Epoch 36/50\n",
            "\u001b[1m30/30\u001b[0m \u001b[32m━━━━━━━━━━━━━━━━━━━━\u001b[0m\u001b[37m\u001b[0m \u001b[1m0s\u001b[0m 5ms/step - accuracy: 0.9982 - loss: 0.0301 - val_accuracy: 0.8008 - val_loss: 0.5523\n",
            "Epoch 37/50\n",
            "\u001b[1m30/30\u001b[0m \u001b[32m━━━━━━━━━━━━━━━━━━━━\u001b[0m\u001b[37m\u001b[0m \u001b[1m0s\u001b[0m 5ms/step - accuracy: 0.9984 - loss: 0.0330 - val_accuracy: 0.8093 - val_loss: 0.5656\n",
            "Epoch 38/50\n",
            "\u001b[1m30/30\u001b[0m \u001b[32m━━━━━━━━━━━━━━━━━━━━\u001b[0m\u001b[37m\u001b[0m \u001b[1m0s\u001b[0m 5ms/step - accuracy: 0.9966 - loss: 0.0345 - val_accuracy: 0.8093 - val_loss: 0.5699\n",
            "Epoch 39/50\n",
            "\u001b[1m30/30\u001b[0m \u001b[32m━━━━━━━━━━━━━━━━━━━━\u001b[0m\u001b[37m\u001b[0m \u001b[1m0s\u001b[0m 5ms/step - accuracy: 0.9949 - loss: 0.0336 - val_accuracy: 0.8136 - val_loss: 0.5793\n",
            "Epoch 40/50\n",
            "\u001b[1m30/30\u001b[0m \u001b[32m━━━━━━━━━━━━━━━━━━━━\u001b[0m\u001b[37m\u001b[0m \u001b[1m0s\u001b[0m 5ms/step - accuracy: 0.9939 - loss: 0.0367 - val_accuracy: 0.8093 - val_loss: 0.5902\n",
            "Epoch 41/50\n",
            "\u001b[1m30/30\u001b[0m \u001b[32m━━━━━━━━━━━━━━━━━━━━\u001b[0m\u001b[37m\u001b[0m \u001b[1m0s\u001b[0m 5ms/step - accuracy: 0.9968 - loss: 0.0241 - val_accuracy: 0.8178 - val_loss: 0.6001\n",
            "Epoch 42/50\n",
            "\u001b[1m30/30\u001b[0m \u001b[32m━━━━━━━━━━━━━━━━━━━━\u001b[0m\u001b[37m\u001b[0m \u001b[1m0s\u001b[0m 5ms/step - accuracy: 0.9988 - loss: 0.0205 - val_accuracy: 0.8093 - val_loss: 0.5996\n",
            "Epoch 43/50\n",
            "\u001b[1m30/30\u001b[0m \u001b[32m━━━━━━━━━━━━━━━━━━━━\u001b[0m\u001b[37m\u001b[0m \u001b[1m0s\u001b[0m 5ms/step - accuracy: 0.9988 - loss: 0.0177 - val_accuracy: 0.8136 - val_loss: 0.6040\n",
            "Epoch 44/50\n",
            "\u001b[1m30/30\u001b[0m \u001b[32m━━━━━━━━━━━━━━━━━━━━\u001b[0m\u001b[37m\u001b[0m \u001b[1m0s\u001b[0m 5ms/step - accuracy: 0.9963 - loss: 0.0237 - val_accuracy: 0.8093 - val_loss: 0.6149\n",
            "Epoch 45/50\n",
            "\u001b[1m30/30\u001b[0m \u001b[32m━━━━━━━━━━━━━━━━━━━━\u001b[0m\u001b[37m\u001b[0m \u001b[1m0s\u001b[0m 5ms/step - accuracy: 0.9973 - loss: 0.0210 - val_accuracy: 0.8136 - val_loss: 0.6204\n",
            "Epoch 46/50\n",
            "\u001b[1m30/30\u001b[0m \u001b[32m━━━━━━━━━━━━━━━━━━━━\u001b[0m\u001b[37m\u001b[0m \u001b[1m0s\u001b[0m 5ms/step - accuracy: 0.9993 - loss: 0.0167 - val_accuracy: 0.8051 - val_loss: 0.6419\n",
            "Epoch 47/50\n",
            "\u001b[1m30/30\u001b[0m \u001b[32m━━━━━━━━━━━━━━━━━━━━\u001b[0m\u001b[37m\u001b[0m \u001b[1m0s\u001b[0m 5ms/step - accuracy: 0.9978 - loss: 0.0155 - val_accuracy: 0.8093 - val_loss: 0.6312\n",
            "Epoch 48/50\n",
            "\u001b[1m30/30\u001b[0m \u001b[32m━━━━━━━━━━━━━━━━━━━━\u001b[0m\u001b[37m\u001b[0m \u001b[1m0s\u001b[0m 4ms/step - accuracy: 0.9996 - loss: 0.0126 - val_accuracy: 0.8093 - val_loss: 0.6289\n",
            "Epoch 49/50\n",
            "\u001b[1m30/30\u001b[0m \u001b[32m━━━━━━━━━━━━━━━━━━━━\u001b[0m\u001b[37m\u001b[0m \u001b[1m0s\u001b[0m 7ms/step - accuracy: 0.9997 - loss: 0.0101 - val_accuracy: 0.8093 - val_loss: 0.6459\n",
            "Epoch 50/50\n",
            "\u001b[1m30/30\u001b[0m \u001b[32m━━━━━━━━━━━━━━━━━━━━\u001b[0m\u001b[37m\u001b[0m \u001b[1m0s\u001b[0m 7ms/step - accuracy: 0.9997 - loss: 0.0092 - val_accuracy: 0.8136 - val_loss: 0.6425\n",
            "\u001b[1m10/10\u001b[0m \u001b[32m━━━━━━━━━━━━━━━━━━━━\u001b[0m\u001b[37m\u001b[0m \u001b[1m0s\u001b[0m 11ms/step\n",
            "Tanh:\n",
            "               precision    recall  f1-score   support\n",
            "\n",
            "           0       0.90      0.95      0.93       255\n",
            "           1       0.50      0.31      0.38        39\n",
            "\n",
            "    accuracy                           0.87       294\n",
            "   macro avg       0.70      0.63      0.65       294\n",
            "weighted avg       0.85      0.87      0.85       294\n",
            "\n"
          ]
        }
      ]
    },
    {
      "cell_type": "markdown",
      "source": [
        " **3. Sigmoid Activation**"
      ],
      "metadata": {
        "id": "86uqNTyn83FP"
      }
    },
    {
      "cell_type": "code",
      "source": [
        "model_sigmoid = tf.keras.Sequential([\n",
        "    tf.keras.layers.Dense(64, activation='sigmoid', input_shape=(X_train.shape[1],)),\n",
        "    tf.keras.layers.Dense(32, activation='sigmoid'),\n",
        "    tf.keras.layers.Dense(1, activation='sigmoid')\n",
        "])\n",
        "\n",
        "model_sigmoid.compile(optimizer='adam', loss='binary_crossentropy', metrics=['accuracy'])\n",
        "model_sigmoid.fit(X_train, y_train, epochs=50, validation_split=0.2, batch_size=32, verbose=1)\n",
        "\n",
        "y_pred_sigmoid = (model_sigmoid.predict(X_test) > 0.5).astype(\"int32\")\n",
        "print(\"Sigmoid:\\n\", classification_report(y_test, y_pred_sigmoid))\n"
      ],
      "metadata": {
        "colab": {
          "base_uri": "https://localhost:8080/"
        },
        "id": "FqpqgFuk8y7h",
        "outputId": "7799dd37-9245-4700-d37f-de70d8dc2aad"
      },
      "execution_count": null,
      "outputs": [
        {
          "output_type": "stream",
          "name": "stdout",
          "text": [
            "Epoch 1/50\n"
          ]
        },
        {
          "output_type": "stream",
          "name": "stderr",
          "text": [
            "/usr/local/lib/python3.11/dist-packages/keras/src/layers/core/dense.py:87: UserWarning: Do not pass an `input_shape`/`input_dim` argument to a layer. When using Sequential models, prefer using an `Input(shape)` object as the first layer in the model instead.\n",
            "  super().__init__(activity_regularizer=activity_regularizer, **kwargs)\n"
          ]
        },
        {
          "output_type": "stream",
          "name": "stdout",
          "text": [
            "\u001b[1m30/30\u001b[0m \u001b[32m━━━━━━━━━━━━━━━━━━━━\u001b[0m\u001b[37m\u001b[0m \u001b[1m2s\u001b[0m 17ms/step - accuracy: 0.6648 - loss: 0.6036 - val_accuracy: 0.7966 - val_loss: 0.4982\n",
            "Epoch 2/50\n",
            "\u001b[1m30/30\u001b[0m \u001b[32m━━━━━━━━━━━━━━━━━━━━\u001b[0m\u001b[37m\u001b[0m \u001b[1m0s\u001b[0m 9ms/step - accuracy: 0.8391 - loss: 0.4235 - val_accuracy: 0.7966 - val_loss: 0.4874\n",
            "Epoch 3/50\n",
            "\u001b[1m30/30\u001b[0m \u001b[32m━━━━━━━━━━━━━━━━━━━━\u001b[0m\u001b[37m\u001b[0m \u001b[1m0s\u001b[0m 5ms/step - accuracy: 0.8462 - loss: 0.3985 - val_accuracy: 0.7966 - val_loss: 0.4656\n",
            "Epoch 4/50\n",
            "\u001b[1m30/30\u001b[0m \u001b[32m━━━━━━━━━━━━━━━━━━━━\u001b[0m\u001b[37m\u001b[0m \u001b[1m0s\u001b[0m 6ms/step - accuracy: 0.8329 - loss: 0.4110 - val_accuracy: 0.7966 - val_loss: 0.4523\n",
            "Epoch 5/50\n",
            "\u001b[1m30/30\u001b[0m \u001b[32m━━━━━━━━━━━━━━━━━━━━\u001b[0m\u001b[37m\u001b[0m \u001b[1m0s\u001b[0m 5ms/step - accuracy: 0.8392 - loss: 0.3753 - val_accuracy: 0.7966 - val_loss: 0.4354\n",
            "Epoch 6/50\n",
            "\u001b[1m30/30\u001b[0m \u001b[32m━━━━━━━━━━━━━━━━━━━━\u001b[0m\u001b[37m\u001b[0m \u001b[1m0s\u001b[0m 5ms/step - accuracy: 0.8478 - loss: 0.3597 - val_accuracy: 0.8008 - val_loss: 0.4187\n",
            "Epoch 7/50\n",
            "\u001b[1m30/30\u001b[0m \u001b[32m━━━━━━━━━━━━━━━━━━━━\u001b[0m\u001b[37m\u001b[0m \u001b[1m0s\u001b[0m 5ms/step - accuracy: 0.8476 - loss: 0.3381 - val_accuracy: 0.8136 - val_loss: 0.4050\n",
            "Epoch 8/50\n",
            "\u001b[1m30/30\u001b[0m \u001b[32m━━━━━━━━━━━━━━━━━━━━\u001b[0m\u001b[37m\u001b[0m \u001b[1m0s\u001b[0m 5ms/step - accuracy: 0.8593 - loss: 0.3186 - val_accuracy: 0.8347 - val_loss: 0.3944\n",
            "Epoch 9/50\n",
            "\u001b[1m30/30\u001b[0m \u001b[32m━━━━━━━━━━━━━━━━━━━━\u001b[0m\u001b[37m\u001b[0m \u001b[1m0s\u001b[0m 5ms/step - accuracy: 0.8620 - loss: 0.3223 - val_accuracy: 0.8347 - val_loss: 0.3864\n",
            "Epoch 10/50\n",
            "\u001b[1m30/30\u001b[0m \u001b[32m━━━━━━━━━━━━━━━━━━━━\u001b[0m\u001b[37m\u001b[0m \u001b[1m0s\u001b[0m 5ms/step - accuracy: 0.8689 - loss: 0.3101 - val_accuracy: 0.8220 - val_loss: 0.3793\n",
            "Epoch 11/50\n",
            "\u001b[1m30/30\u001b[0m \u001b[32m━━━━━━━━━━━━━━━━━━━━\u001b[0m\u001b[37m\u001b[0m \u001b[1m0s\u001b[0m 6ms/step - accuracy: 0.8880 - loss: 0.2961 - val_accuracy: 0.8263 - val_loss: 0.3782\n",
            "Epoch 12/50\n",
            "\u001b[1m30/30\u001b[0m \u001b[32m━━━━━━━━━━━━━━━━━━━━\u001b[0m\u001b[37m\u001b[0m \u001b[1m0s\u001b[0m 5ms/step - accuracy: 0.8915 - loss: 0.3047 - val_accuracy: 0.8347 - val_loss: 0.3737\n",
            "Epoch 13/50\n",
            "\u001b[1m30/30\u001b[0m \u001b[32m━━━━━━━━━━━━━━━━━━━━\u001b[0m\u001b[37m\u001b[0m \u001b[1m0s\u001b[0m 5ms/step - accuracy: 0.8771 - loss: 0.3073 - val_accuracy: 0.8347 - val_loss: 0.3705\n",
            "Epoch 14/50\n",
            "\u001b[1m30/30\u001b[0m \u001b[32m━━━━━━━━━━━━━━━━━━━━\u001b[0m\u001b[37m\u001b[0m \u001b[1m0s\u001b[0m 6ms/step - accuracy: 0.9021 - loss: 0.2747 - val_accuracy: 0.8347 - val_loss: 0.3703\n",
            "Epoch 15/50\n",
            "\u001b[1m30/30\u001b[0m \u001b[32m━━━━━━━━━━━━━━━━━━━━\u001b[0m\u001b[37m\u001b[0m \u001b[1m0s\u001b[0m 5ms/step - accuracy: 0.8968 - loss: 0.2770 - val_accuracy: 0.8347 - val_loss: 0.3718\n",
            "Epoch 16/50\n",
            "\u001b[1m30/30\u001b[0m \u001b[32m━━━━━━━━━━━━━━━━━━━━\u001b[0m\u001b[37m\u001b[0m \u001b[1m0s\u001b[0m 5ms/step - accuracy: 0.8897 - loss: 0.3012 - val_accuracy: 0.8390 - val_loss: 0.3710\n",
            "Epoch 17/50\n",
            "\u001b[1m30/30\u001b[0m \u001b[32m━━━━━━━━━━━━━━━━━━━━\u001b[0m\u001b[37m\u001b[0m \u001b[1m0s\u001b[0m 6ms/step - accuracy: 0.9109 - loss: 0.2502 - val_accuracy: 0.8475 - val_loss: 0.3708\n",
            "Epoch 18/50\n",
            "\u001b[1m30/30\u001b[0m \u001b[32m━━━━━━━━━━━━━━━━━━━━\u001b[0m\u001b[37m\u001b[0m \u001b[1m0s\u001b[0m 7ms/step - accuracy: 0.8924 - loss: 0.2742 - val_accuracy: 0.8432 - val_loss: 0.3702\n",
            "Epoch 19/50\n",
            "\u001b[1m30/30\u001b[0m \u001b[32m━━━━━━━━━━━━━━━━━━━━\u001b[0m\u001b[37m\u001b[0m \u001b[1m0s\u001b[0m 7ms/step - accuracy: 0.9255 - loss: 0.2196 - val_accuracy: 0.8517 - val_loss: 0.3692\n",
            "Epoch 20/50\n",
            "\u001b[1m30/30\u001b[0m \u001b[32m━━━━━━━━━━━━━━━━━━━━\u001b[0m\u001b[37m\u001b[0m \u001b[1m0s\u001b[0m 7ms/step - accuracy: 0.9000 - loss: 0.2602 - val_accuracy: 0.8475 - val_loss: 0.3727\n",
            "Epoch 21/50\n",
            "\u001b[1m30/30\u001b[0m \u001b[32m━━━━━━━━━━━━━━━━━━━━\u001b[0m\u001b[37m\u001b[0m \u001b[1m0s\u001b[0m 7ms/step - accuracy: 0.8970 - loss: 0.2557 - val_accuracy: 0.8390 - val_loss: 0.3711\n",
            "Epoch 22/50\n",
            "\u001b[1m30/30\u001b[0m \u001b[32m━━━━━━━━━━━━━━━━━━━━\u001b[0m\u001b[37m\u001b[0m \u001b[1m0s\u001b[0m 8ms/step - accuracy: 0.8925 - loss: 0.2727 - val_accuracy: 0.8432 - val_loss: 0.3709\n",
            "Epoch 23/50\n",
            "\u001b[1m30/30\u001b[0m \u001b[32m━━━━━━━━━━━━━━━━━━━━\u001b[0m\u001b[37m\u001b[0m \u001b[1m0s\u001b[0m 7ms/step - accuracy: 0.8942 - loss: 0.2626 - val_accuracy: 0.8475 - val_loss: 0.3716\n",
            "Epoch 24/50\n",
            "\u001b[1m30/30\u001b[0m \u001b[32m━━━━━━━━━━━━━━━━━━━━\u001b[0m\u001b[37m\u001b[0m \u001b[1m0s\u001b[0m 8ms/step - accuracy: 0.9021 - loss: 0.2711 - val_accuracy: 0.8432 - val_loss: 0.3727\n",
            "Epoch 25/50\n",
            "\u001b[1m30/30\u001b[0m \u001b[32m━━━━━━━━━━━━━━━━━━━━\u001b[0m\u001b[37m\u001b[0m \u001b[1m0s\u001b[0m 5ms/step - accuracy: 0.8962 - loss: 0.2568 - val_accuracy: 0.8432 - val_loss: 0.3740\n",
            "Epoch 26/50\n",
            "\u001b[1m30/30\u001b[0m \u001b[32m━━━━━━━━━━━━━━━━━━━━\u001b[0m\u001b[37m\u001b[0m \u001b[1m0s\u001b[0m 5ms/step - accuracy: 0.9032 - loss: 0.2651 - val_accuracy: 0.8475 - val_loss: 0.3714\n",
            "Epoch 27/50\n",
            "\u001b[1m30/30\u001b[0m \u001b[32m━━━━━━━━━━━━━━━━━━━━\u001b[0m\u001b[37m\u001b[0m \u001b[1m0s\u001b[0m 5ms/step - accuracy: 0.9026 - loss: 0.2652 - val_accuracy: 0.8517 - val_loss: 0.3699\n",
            "Epoch 28/50\n",
            "\u001b[1m30/30\u001b[0m \u001b[32m━━━━━━━━━━━━━━━━━━━━\u001b[0m\u001b[37m\u001b[0m \u001b[1m0s\u001b[0m 5ms/step - accuracy: 0.9098 - loss: 0.2579 - val_accuracy: 0.8390 - val_loss: 0.3737\n",
            "Epoch 29/50\n",
            "\u001b[1m30/30\u001b[0m \u001b[32m━━━━━━━━━━━━━━━━━━━━\u001b[0m\u001b[37m\u001b[0m \u001b[1m0s\u001b[0m 5ms/step - accuracy: 0.9098 - loss: 0.2635 - val_accuracy: 0.8475 - val_loss: 0.3701\n",
            "Epoch 30/50\n",
            "\u001b[1m30/30\u001b[0m \u001b[32m━━━━━━━━━━━━━━━━━━━━\u001b[0m\u001b[37m\u001b[0m \u001b[1m0s\u001b[0m 5ms/step - accuracy: 0.9093 - loss: 0.2388 - val_accuracy: 0.8559 - val_loss: 0.3714\n",
            "Epoch 31/50\n",
            "\u001b[1m30/30\u001b[0m \u001b[32m━━━━━━━━━━━━━━━━━━━━\u001b[0m\u001b[37m\u001b[0m \u001b[1m0s\u001b[0m 5ms/step - accuracy: 0.9022 - loss: 0.2408 - val_accuracy: 0.8390 - val_loss: 0.3700\n",
            "Epoch 32/50\n",
            "\u001b[1m30/30\u001b[0m \u001b[32m━━━━━━━━━━━━━━━━━━━━\u001b[0m\u001b[37m\u001b[0m \u001b[1m0s\u001b[0m 5ms/step - accuracy: 0.9105 - loss: 0.2314 - val_accuracy: 0.8517 - val_loss: 0.3678\n",
            "Epoch 33/50\n",
            "\u001b[1m30/30\u001b[0m \u001b[32m━━━━━━━━━━━━━━━━━━━━\u001b[0m\u001b[37m\u001b[0m \u001b[1m0s\u001b[0m 5ms/step - accuracy: 0.9098 - loss: 0.2463 - val_accuracy: 0.8517 - val_loss: 0.3713\n",
            "Epoch 34/50\n",
            "\u001b[1m30/30\u001b[0m \u001b[32m━━━━━━━━━━━━━━━━━━━━\u001b[0m\u001b[37m\u001b[0m \u001b[1m0s\u001b[0m 6ms/step - accuracy: 0.9186 - loss: 0.2379 - val_accuracy: 0.8559 - val_loss: 0.3697\n",
            "Epoch 35/50\n",
            "\u001b[1m30/30\u001b[0m \u001b[32m━━━━━━━━━━━━━━━━━━━━\u001b[0m\u001b[37m\u001b[0m \u001b[1m0s\u001b[0m 5ms/step - accuracy: 0.9111 - loss: 0.2393 - val_accuracy: 0.8432 - val_loss: 0.3669\n",
            "Epoch 36/50\n",
            "\u001b[1m30/30\u001b[0m \u001b[32m━━━━━━━━━━━━━━━━━━━━\u001b[0m\u001b[37m\u001b[0m \u001b[1m0s\u001b[0m 5ms/step - accuracy: 0.8964 - loss: 0.2796 - val_accuracy: 0.8559 - val_loss: 0.3692\n",
            "Epoch 37/50\n",
            "\u001b[1m30/30\u001b[0m \u001b[32m━━━━━━━━━━━━━━━━━━━━\u001b[0m\u001b[37m\u001b[0m \u001b[1m0s\u001b[0m 5ms/step - accuracy: 0.9219 - loss: 0.2336 - val_accuracy: 0.8475 - val_loss: 0.3709\n",
            "Epoch 38/50\n",
            "\u001b[1m30/30\u001b[0m \u001b[32m━━━━━━━━━━━━━━━━━━━━\u001b[0m\u001b[37m\u001b[0m \u001b[1m0s\u001b[0m 5ms/step - accuracy: 0.9109 - loss: 0.2373 - val_accuracy: 0.8390 - val_loss: 0.3737\n",
            "Epoch 39/50\n",
            "\u001b[1m30/30\u001b[0m \u001b[32m━━━━━━━━━━━━━━━━━━━━\u001b[0m\u001b[37m\u001b[0m \u001b[1m0s\u001b[0m 5ms/step - accuracy: 0.9058 - loss: 0.2508 - val_accuracy: 0.8517 - val_loss: 0.3729\n",
            "Epoch 40/50\n",
            "\u001b[1m30/30\u001b[0m \u001b[32m━━━━━━━━━━━━━━━━━━━━\u001b[0m\u001b[37m\u001b[0m \u001b[1m0s\u001b[0m 5ms/step - accuracy: 0.9024 - loss: 0.2733 - val_accuracy: 0.8475 - val_loss: 0.3710\n",
            "Epoch 41/50\n",
            "\u001b[1m30/30\u001b[0m \u001b[32m━━━━━━━━━━━━━━━━━━━━\u001b[0m\u001b[37m\u001b[0m \u001b[1m0s\u001b[0m 5ms/step - accuracy: 0.9074 - loss: 0.2512 - val_accuracy: 0.8517 - val_loss: 0.3716\n",
            "Epoch 42/50\n",
            "\u001b[1m30/30\u001b[0m \u001b[32m━━━━━━━━━━━━━━━━━━━━\u001b[0m\u001b[37m\u001b[0m \u001b[1m0s\u001b[0m 5ms/step - accuracy: 0.9167 - loss: 0.2365 - val_accuracy: 0.8559 - val_loss: 0.3730\n",
            "Epoch 43/50\n",
            "\u001b[1m30/30\u001b[0m \u001b[32m━━━━━━━━━━━━━━━━━━━━\u001b[0m\u001b[37m\u001b[0m \u001b[1m0s\u001b[0m 5ms/step - accuracy: 0.9125 - loss: 0.2228 - val_accuracy: 0.8517 - val_loss: 0.3721\n",
            "Epoch 44/50\n",
            "\u001b[1m30/30\u001b[0m \u001b[32m━━━━━━━━━━━━━━━━━━━━\u001b[0m\u001b[37m\u001b[0m \u001b[1m0s\u001b[0m 6ms/step - accuracy: 0.9113 - loss: 0.2574 - val_accuracy: 0.8517 - val_loss: 0.3750\n",
            "Epoch 45/50\n",
            "\u001b[1m30/30\u001b[0m \u001b[32m━━━━━━━━━━━━━━━━━━━━\u001b[0m\u001b[37m\u001b[0m \u001b[1m0s\u001b[0m 6ms/step - accuracy: 0.9157 - loss: 0.2395 - val_accuracy: 0.8390 - val_loss: 0.3728\n",
            "Epoch 46/50\n",
            "\u001b[1m30/30\u001b[0m \u001b[32m━━━━━━━━━━━━━━━━━━━━\u001b[0m\u001b[37m\u001b[0m \u001b[1m0s\u001b[0m 5ms/step - accuracy: 0.8955 - loss: 0.2650 - val_accuracy: 0.8517 - val_loss: 0.3732\n",
            "Epoch 47/50\n",
            "\u001b[1m30/30\u001b[0m \u001b[32m━━━━━━━━━━━━━━━━━━━━\u001b[0m\u001b[37m\u001b[0m \u001b[1m0s\u001b[0m 5ms/step - accuracy: 0.9023 - loss: 0.2641 - val_accuracy: 0.8432 - val_loss: 0.3723\n",
            "Epoch 48/50\n",
            "\u001b[1m30/30\u001b[0m \u001b[32m━━━━━━━━━━━━━━━━━━━━\u001b[0m\u001b[37m\u001b[0m \u001b[1m0s\u001b[0m 5ms/step - accuracy: 0.9220 - loss: 0.2198 - val_accuracy: 0.8390 - val_loss: 0.3714\n",
            "Epoch 49/50\n",
            "\u001b[1m30/30\u001b[0m \u001b[32m━━━━━━━━━━━━━━━━━━━━\u001b[0m\u001b[37m\u001b[0m \u001b[1m0s\u001b[0m 5ms/step - accuracy: 0.9141 - loss: 0.2251 - val_accuracy: 0.8390 - val_loss: 0.3747\n",
            "Epoch 50/50\n",
            "\u001b[1m30/30\u001b[0m \u001b[32m━━━━━━━━━━━━━━━━━━━━\u001b[0m\u001b[37m\u001b[0m \u001b[1m0s\u001b[0m 5ms/step - accuracy: 0.9169 - loss: 0.2320 - val_accuracy: 0.8390 - val_loss: 0.3733\n",
            "\u001b[1m10/10\u001b[0m \u001b[32m━━━━━━━━━━━━━━━━━━━━\u001b[0m\u001b[37m\u001b[0m \u001b[1m0s\u001b[0m 8ms/step\n",
            "Sigmoid:\n",
            "               precision    recall  f1-score   support\n",
            "\n",
            "           0       0.92      0.95      0.93       255\n",
            "           1       0.56      0.46      0.51        39\n",
            "\n",
            "    accuracy                           0.88       294\n",
            "   macro avg       0.74      0.70      0.72       294\n",
            "weighted avg       0.87      0.88      0.88       294\n",
            "\n"
          ]
        }
      ]
    },
    {
      "cell_type": "markdown",
      "source": [
        " **4. Swish Activation (Custom Activation)**"
      ],
      "metadata": {
        "id": "PLK8M1mF8_e3"
      }
    },
    {
      "cell_type": "code",
      "source": [
        "from tensorflow.keras.activations import swish\n",
        "\n",
        "model_swish = tf.keras.Sequential([\n",
        "    tf.keras.layers.Dense(64, activation=swish, input_shape=(X_train.shape[1],)),\n",
        "    tf.keras.layers.Dense(32, activation=swish),\n",
        "    tf.keras.layers.Dense(1, activation='sigmoid')\n",
        "])\n",
        "\n",
        "model_swish.compile(optimizer='adam', loss='binary_crossentropy', metrics=['accuracy'])\n",
        "model_swish.fit(X_train, y_train, epochs=50, validation_split=0.2, batch_size=32, verbose=1)\n",
        "\n",
        "y_pred_swish = (model_swish.predict(X_test) > 0.5).astype(\"int32\")\n",
        "print(\"Swish:\\n\", classification_report(y_test, y_pred_swish))\n"
      ],
      "metadata": {
        "colab": {
          "base_uri": "https://localhost:8080/"
        },
        "id": "jEm6Shxq86g6",
        "outputId": "f1e3bc31-3143-4cc6-8b0a-00dc9f586de7"
      },
      "execution_count": null,
      "outputs": [
        {
          "output_type": "stream",
          "name": "stdout",
          "text": [
            "Epoch 1/50\n"
          ]
        },
        {
          "output_type": "stream",
          "name": "stderr",
          "text": [
            "/usr/local/lib/python3.11/dist-packages/keras/src/layers/core/dense.py:87: UserWarning: Do not pass an `input_shape`/`input_dim` argument to a layer. When using Sequential models, prefer using an `Input(shape)` object as the first layer in the model instead.\n",
            "  super().__init__(activity_regularizer=activity_regularizer, **kwargs)\n"
          ]
        },
        {
          "output_type": "stream",
          "name": "stdout",
          "text": [
            "\u001b[1m30/30\u001b[0m \u001b[32m━━━━━━━━━━━━━━━━━━━━\u001b[0m\u001b[37m\u001b[0m \u001b[1m3s\u001b[0m 18ms/step - accuracy: 0.6530 - loss: 0.6350 - val_accuracy: 0.8051 - val_loss: 0.4875\n",
            "Epoch 2/50\n",
            "\u001b[1m30/30\u001b[0m \u001b[32m━━━━━━━━━━━━━━━━━━━━\u001b[0m\u001b[37m\u001b[0m \u001b[1m0s\u001b[0m 7ms/step - accuracy: 0.8524 - loss: 0.4121 - val_accuracy: 0.8305 - val_loss: 0.4270\n",
            "Epoch 3/50\n",
            "\u001b[1m30/30\u001b[0m \u001b[32m━━━━━━━━━━━━━━━━━━━━\u001b[0m\u001b[37m\u001b[0m \u001b[1m0s\u001b[0m 5ms/step - accuracy: 0.8619 - loss: 0.3766 - val_accuracy: 0.8432 - val_loss: 0.4024\n",
            "Epoch 4/50\n",
            "\u001b[1m30/30\u001b[0m \u001b[32m━━━━━━━━━━━━━━━━━━━━\u001b[0m\u001b[37m\u001b[0m \u001b[1m0s\u001b[0m 5ms/step - accuracy: 0.8692 - loss: 0.3291 - val_accuracy: 0.8517 - val_loss: 0.3932\n",
            "Epoch 5/50\n",
            "\u001b[1m30/30\u001b[0m \u001b[32m━━━━━━━━━━━━━━━━━━━━\u001b[0m\u001b[37m\u001b[0m \u001b[1m0s\u001b[0m 6ms/step - accuracy: 0.8760 - loss: 0.3100 - val_accuracy: 0.8602 - val_loss: 0.3882\n",
            "Epoch 6/50\n",
            "\u001b[1m30/30\u001b[0m \u001b[32m━━━━━━━━━━━━━━━━━━━━\u001b[0m\u001b[37m\u001b[0m \u001b[1m0s\u001b[0m 6ms/step - accuracy: 0.9054 - loss: 0.2617 - val_accuracy: 0.8475 - val_loss: 0.3928\n",
            "Epoch 7/50\n",
            "\u001b[1m30/30\u001b[0m \u001b[32m━━━━━━━━━━━━━━━━━━━━\u001b[0m\u001b[37m\u001b[0m \u001b[1m0s\u001b[0m 5ms/step - accuracy: 0.9015 - loss: 0.2399 - val_accuracy: 0.8432 - val_loss: 0.3931\n",
            "Epoch 8/50\n",
            "\u001b[1m30/30\u001b[0m \u001b[32m━━━━━━━━━━━━━━━━━━━━\u001b[0m\u001b[37m\u001b[0m \u001b[1m0s\u001b[0m 5ms/step - accuracy: 0.8895 - loss: 0.2770 - val_accuracy: 0.8475 - val_loss: 0.4029\n",
            "Epoch 9/50\n",
            "\u001b[1m30/30\u001b[0m \u001b[32m━━━━━━━━━━━━━━━━━━━━\u001b[0m\u001b[37m\u001b[0m \u001b[1m0s\u001b[0m 6ms/step - accuracy: 0.9140 - loss: 0.2252 - val_accuracy: 0.8475 - val_loss: 0.4068\n",
            "Epoch 10/50\n",
            "\u001b[1m30/30\u001b[0m \u001b[32m━━━━━━━━━━━━━━━━━━━━\u001b[0m\u001b[37m\u001b[0m \u001b[1m0s\u001b[0m 4ms/step - accuracy: 0.9207 - loss: 0.2072 - val_accuracy: 0.8475 - val_loss: 0.4142\n",
            "Epoch 11/50\n",
            "\u001b[1m30/30\u001b[0m \u001b[32m━━━━━━━━━━━━━━━━━━━━\u001b[0m\u001b[37m\u001b[0m \u001b[1m0s\u001b[0m 5ms/step - accuracy: 0.9223 - loss: 0.2024 - val_accuracy: 0.8475 - val_loss: 0.4252\n",
            "Epoch 12/50\n",
            "\u001b[1m30/30\u001b[0m \u001b[32m━━━━━━━━━━━━━━━━━━━━\u001b[0m\u001b[37m\u001b[0m \u001b[1m0s\u001b[0m 5ms/step - accuracy: 0.9155 - loss: 0.2109 - val_accuracy: 0.8305 - val_loss: 0.4310\n",
            "Epoch 13/50\n",
            "\u001b[1m30/30\u001b[0m \u001b[32m━━━━━━━━━━━━━━━━━━━━\u001b[0m\u001b[37m\u001b[0m \u001b[1m0s\u001b[0m 5ms/step - accuracy: 0.9336 - loss: 0.1770 - val_accuracy: 0.8432 - val_loss: 0.4393\n",
            "Epoch 14/50\n",
            "\u001b[1m30/30\u001b[0m \u001b[32m━━━━━━━━━━━━━━━━━━━━\u001b[0m\u001b[37m\u001b[0m \u001b[1m0s\u001b[0m 5ms/step - accuracy: 0.9265 - loss: 0.1760 - val_accuracy: 0.8390 - val_loss: 0.4457\n",
            "Epoch 15/50\n",
            "\u001b[1m30/30\u001b[0m \u001b[32m━━━━━━━━━━━━━━━━━━━━\u001b[0m\u001b[37m\u001b[0m \u001b[1m0s\u001b[0m 5ms/step - accuracy: 0.9405 - loss: 0.1543 - val_accuracy: 0.8432 - val_loss: 0.4543\n",
            "Epoch 16/50\n",
            "\u001b[1m30/30\u001b[0m \u001b[32m━━━━━━━━━━━━━━━━━━━━\u001b[0m\u001b[37m\u001b[0m \u001b[1m0s\u001b[0m 6ms/step - accuracy: 0.9360 - loss: 0.1742 - val_accuracy: 0.8432 - val_loss: 0.4616\n",
            "Epoch 17/50\n",
            "\u001b[1m30/30\u001b[0m \u001b[32m━━━━━━━━━━━━━━━━━━━━\u001b[0m\u001b[37m\u001b[0m \u001b[1m0s\u001b[0m 5ms/step - accuracy: 0.9449 - loss: 0.1561 - val_accuracy: 0.8390 - val_loss: 0.4786\n",
            "Epoch 18/50\n",
            "\u001b[1m30/30\u001b[0m \u001b[32m━━━━━━━━━━━━━━━━━━━━\u001b[0m\u001b[37m\u001b[0m \u001b[1m0s\u001b[0m 5ms/step - accuracy: 0.9509 - loss: 0.1544 - val_accuracy: 0.8305 - val_loss: 0.4814\n",
            "Epoch 19/50\n",
            "\u001b[1m30/30\u001b[0m \u001b[32m━━━━━━━━━━━━━━━━━━━━\u001b[0m\u001b[37m\u001b[0m \u001b[1m0s\u001b[0m 5ms/step - accuracy: 0.9506 - loss: 0.1470 - val_accuracy: 0.8305 - val_loss: 0.5054\n",
            "Epoch 20/50\n",
            "\u001b[1m30/30\u001b[0m \u001b[32m━━━━━━━━━━━━━━━━━━━━\u001b[0m\u001b[37m\u001b[0m \u001b[1m0s\u001b[0m 9ms/step - accuracy: 0.9460 - loss: 0.1358 - val_accuracy: 0.8305 - val_loss: 0.5144\n",
            "Epoch 21/50\n",
            "\u001b[1m30/30\u001b[0m \u001b[32m━━━━━━━━━━━━━━━━━━━━\u001b[0m\u001b[37m\u001b[0m \u001b[1m0s\u001b[0m 7ms/step - accuracy: 0.9629 - loss: 0.1235 - val_accuracy: 0.8305 - val_loss: 0.5151\n",
            "Epoch 22/50\n",
            "\u001b[1m30/30\u001b[0m \u001b[32m━━━━━━━━━━━━━━━━━━━━\u001b[0m\u001b[37m\u001b[0m \u001b[1m0s\u001b[0m 8ms/step - accuracy: 0.9555 - loss: 0.1196 - val_accuracy: 0.8220 - val_loss: 0.5400\n",
            "Epoch 23/50\n",
            "\u001b[1m30/30\u001b[0m \u001b[32m━━━━━━━━━━━━━━━━━━━━\u001b[0m\u001b[37m\u001b[0m \u001b[1m0s\u001b[0m 7ms/step - accuracy: 0.9650 - loss: 0.1085 - val_accuracy: 0.8220 - val_loss: 0.5554\n",
            "Epoch 24/50\n",
            "\u001b[1m30/30\u001b[0m \u001b[32m━━━━━━━━━━━━━━━━━━━━\u001b[0m\u001b[37m\u001b[0m \u001b[1m0s\u001b[0m 8ms/step - accuracy: 0.9659 - loss: 0.1143 - val_accuracy: 0.8220 - val_loss: 0.5631\n",
            "Epoch 25/50\n",
            "\u001b[1m30/30\u001b[0m \u001b[32m━━━━━━━━━━━━━━━━━━━━\u001b[0m\u001b[37m\u001b[0m \u001b[1m0s\u001b[0m 8ms/step - accuracy: 0.9644 - loss: 0.0944 - val_accuracy: 0.8136 - val_loss: 0.5857\n",
            "Epoch 26/50\n",
            "\u001b[1m30/30\u001b[0m \u001b[32m━━━━━━━━━━━━━━━━━━━━\u001b[0m\u001b[37m\u001b[0m \u001b[1m0s\u001b[0m 8ms/step - accuracy: 0.9765 - loss: 0.0999 - val_accuracy: 0.8220 - val_loss: 0.6121\n",
            "Epoch 27/50\n",
            "\u001b[1m30/30\u001b[0m \u001b[32m━━━━━━━━━━━━━━━━━━━━\u001b[0m\u001b[37m\u001b[0m \u001b[1m0s\u001b[0m 7ms/step - accuracy: 0.9721 - loss: 0.0876 - val_accuracy: 0.8220 - val_loss: 0.6126\n",
            "Epoch 28/50\n",
            "\u001b[1m30/30\u001b[0m \u001b[32m━━━━━━━━━━━━━━━━━━━━\u001b[0m\u001b[37m\u001b[0m \u001b[1m0s\u001b[0m 5ms/step - accuracy: 0.9819 - loss: 0.0834 - val_accuracy: 0.8093 - val_loss: 0.6441\n",
            "Epoch 29/50\n",
            "\u001b[1m30/30\u001b[0m \u001b[32m━━━━━━━━━━━━━━━━━━━━\u001b[0m\u001b[37m\u001b[0m \u001b[1m0s\u001b[0m 5ms/step - accuracy: 0.9834 - loss: 0.0764 - val_accuracy: 0.8178 - val_loss: 0.6652\n",
            "Epoch 30/50\n",
            "\u001b[1m30/30\u001b[0m \u001b[32m━━━━━━━━━━━━━━━━━━━━\u001b[0m\u001b[37m\u001b[0m \u001b[1m0s\u001b[0m 5ms/step - accuracy: 0.9817 - loss: 0.0762 - val_accuracy: 0.8136 - val_loss: 0.6699\n",
            "Epoch 31/50\n",
            "\u001b[1m30/30\u001b[0m \u001b[32m━━━━━━━━━━━━━━━━━━━━\u001b[0m\u001b[37m\u001b[0m \u001b[1m0s\u001b[0m 5ms/step - accuracy: 0.9880 - loss: 0.0598 - val_accuracy: 0.8051 - val_loss: 0.7151\n",
            "Epoch 32/50\n",
            "\u001b[1m30/30\u001b[0m \u001b[32m━━━━━━━━━━━━━━━━━━━━\u001b[0m\u001b[37m\u001b[0m \u001b[1m0s\u001b[0m 5ms/step - accuracy: 0.9935 - loss: 0.0538 - val_accuracy: 0.8093 - val_loss: 0.7228\n",
            "Epoch 33/50\n",
            "\u001b[1m30/30\u001b[0m \u001b[32m━━━━━━━━━━━━━━━━━━━━\u001b[0m\u001b[37m\u001b[0m \u001b[1m0s\u001b[0m 5ms/step - accuracy: 0.9894 - loss: 0.0491 - val_accuracy: 0.8051 - val_loss: 0.7630\n",
            "Epoch 34/50\n",
            "\u001b[1m30/30\u001b[0m \u001b[32m━━━━━━━━━━━━━━━━━━━━\u001b[0m\u001b[37m\u001b[0m \u001b[1m0s\u001b[0m 5ms/step - accuracy: 0.9838 - loss: 0.0600 - val_accuracy: 0.8051 - val_loss: 0.7887\n",
            "Epoch 35/50\n",
            "\u001b[1m30/30\u001b[0m \u001b[32m━━━━━━━━━━━━━━━━━━━━\u001b[0m\u001b[37m\u001b[0m \u001b[1m0s\u001b[0m 5ms/step - accuracy: 0.9968 - loss: 0.0420 - val_accuracy: 0.8136 - val_loss: 0.8012\n",
            "Epoch 36/50\n",
            "\u001b[1m30/30\u001b[0m \u001b[32m━━━━━━━━━━━━━━━━━━━━\u001b[0m\u001b[37m\u001b[0m \u001b[1m0s\u001b[0m 5ms/step - accuracy: 0.9917 - loss: 0.0432 - val_accuracy: 0.8093 - val_loss: 0.8303\n",
            "Epoch 37/50\n",
            "\u001b[1m30/30\u001b[0m \u001b[32m━━━━━━━━━━━━━━━━━━━━\u001b[0m\u001b[37m\u001b[0m \u001b[1m0s\u001b[0m 5ms/step - accuracy: 0.9944 - loss: 0.0396 - val_accuracy: 0.8051 - val_loss: 0.8496\n",
            "Epoch 38/50\n",
            "\u001b[1m30/30\u001b[0m \u001b[32m━━━━━━━━━━━━━━━━━━━━\u001b[0m\u001b[37m\u001b[0m \u001b[1m0s\u001b[0m 5ms/step - accuracy: 0.9956 - loss: 0.0333 - val_accuracy: 0.8093 - val_loss: 0.8769\n",
            "Epoch 39/50\n",
            "\u001b[1m30/30\u001b[0m \u001b[32m━━━━━━━━━━━━━━━━━━━━\u001b[0m\u001b[37m\u001b[0m \u001b[1m0s\u001b[0m 5ms/step - accuracy: 0.9951 - loss: 0.0300 - val_accuracy: 0.8008 - val_loss: 0.9233\n",
            "Epoch 40/50\n",
            "\u001b[1m30/30\u001b[0m \u001b[32m━━━━━━━━━━━━━━━━━━━━\u001b[0m\u001b[37m\u001b[0m \u001b[1m0s\u001b[0m 5ms/step - accuracy: 0.9955 - loss: 0.0272 - val_accuracy: 0.8178 - val_loss: 0.9255\n",
            "Epoch 41/50\n",
            "\u001b[1m30/30\u001b[0m \u001b[32m━━━━━━━━━━━━━━━━━━━━\u001b[0m\u001b[37m\u001b[0m \u001b[1m0s\u001b[0m 5ms/step - accuracy: 0.9963 - loss: 0.0242 - val_accuracy: 0.8051 - val_loss: 0.9700\n",
            "Epoch 42/50\n",
            "\u001b[1m30/30\u001b[0m \u001b[32m━━━━━━━━━━━━━━━━━━━━\u001b[0m\u001b[37m\u001b[0m \u001b[1m0s\u001b[0m 5ms/step - accuracy: 0.9992 - loss: 0.0201 - val_accuracy: 0.8093 - val_loss: 0.9850\n",
            "Epoch 43/50\n",
            "\u001b[1m30/30\u001b[0m \u001b[32m━━━━━━━━━━━━━━━━━━━━\u001b[0m\u001b[37m\u001b[0m \u001b[1m0s\u001b[0m 5ms/step - accuracy: 0.9958 - loss: 0.0281 - val_accuracy: 0.8051 - val_loss: 0.9933\n",
            "Epoch 44/50\n",
            "\u001b[1m30/30\u001b[0m \u001b[32m━━━━━━━━━━━━━━━━━━━━\u001b[0m\u001b[37m\u001b[0m \u001b[1m0s\u001b[0m 5ms/step - accuracy: 0.9989 - loss: 0.0178 - val_accuracy: 0.8051 - val_loss: 1.0195\n",
            "Epoch 45/50\n",
            "\u001b[1m30/30\u001b[0m \u001b[32m━━━━━━━━━━━━━━━━━━━━\u001b[0m\u001b[37m\u001b[0m \u001b[1m0s\u001b[0m 5ms/step - accuracy: 0.9994 - loss: 0.0157 - val_accuracy: 0.8178 - val_loss: 1.0382\n",
            "Epoch 46/50\n",
            "\u001b[1m30/30\u001b[0m \u001b[32m━━━━━━━━━━━━━━━━━━━━\u001b[0m\u001b[37m\u001b[0m \u001b[1m0s\u001b[0m 5ms/step - accuracy: 1.0000 - loss: 0.0163 - val_accuracy: 0.8093 - val_loss: 1.0718\n",
            "Epoch 47/50\n",
            "\u001b[1m30/30\u001b[0m \u001b[32m━━━━━━━━━━━━━━━━━━━━\u001b[0m\u001b[37m\u001b[0m \u001b[1m0s\u001b[0m 5ms/step - accuracy: 0.9991 - loss: 0.0134 - val_accuracy: 0.8093 - val_loss: 1.0876\n",
            "Epoch 48/50\n",
            "\u001b[1m30/30\u001b[0m \u001b[32m━━━━━━━━━━━━━━━━━━━━\u001b[0m\u001b[37m\u001b[0m \u001b[1m0s\u001b[0m 5ms/step - accuracy: 1.0000 - loss: 0.0169 - val_accuracy: 0.8136 - val_loss: 1.1185\n",
            "Epoch 49/50\n",
            "\u001b[1m30/30\u001b[0m \u001b[32m━━━━━━━━━━━━━━━━━━━━\u001b[0m\u001b[37m\u001b[0m \u001b[1m0s\u001b[0m 5ms/step - accuracy: 0.9994 - loss: 0.0121 - val_accuracy: 0.8178 - val_loss: 1.1289\n",
            "Epoch 50/50\n",
            "\u001b[1m30/30\u001b[0m \u001b[32m━━━━━━━━━━━━━━━━━━━━\u001b[0m\u001b[37m\u001b[0m \u001b[1m0s\u001b[0m 5ms/step - accuracy: 1.0000 - loss: 0.0108 - val_accuracy: 0.8136 - val_loss: 1.1661\n",
            "\u001b[1m10/10\u001b[0m \u001b[32m━━━━━━━━━━━━━━━━━━━━\u001b[0m\u001b[37m\u001b[0m \u001b[1m0s\u001b[0m 9ms/step\n",
            "Swish:\n",
            "               precision    recall  f1-score   support\n",
            "\n",
            "           0       0.90      0.92      0.91       255\n",
            "           1       0.41      0.36      0.38        39\n",
            "\n",
            "    accuracy                           0.85       294\n",
            "   macro avg       0.66      0.64      0.65       294\n",
            "weighted avg       0.84      0.85      0.84       294\n",
            "\n"
          ]
        }
      ]
    },
    {
      "cell_type": "markdown",
      "source": [
        "#Using Activations with CNN & Kernel Sizes"
      ],
      "metadata": {
        "id": "HbqQrKzJAFxl"
      }
    },
    {
      "cell_type": "code",
      "source": [
        "X_train_cnn = X_train.reshape((X_train.shape[0], X_train.shape[1], 1))\n",
        "X_test_cnn = X_test.reshape((X_test.shape[0], X_test.shape[1], 1))"
      ],
      "metadata": {
        "id": "AP82lDRu9C-A"
      },
      "execution_count": null,
      "outputs": []
    },
    {
      "cell_type": "code",
      "source": [
        "from tensorflow.keras.models import Sequential\n",
        "from tensorflow.keras.layers import Conv1D, Flatten, Dense\n",
        "from tensorflow.keras.activations import swish\n",
        "\n",
        "def build_cnn_model(kernel_size, activation):\n",
        "    model = Sequential([\n",
        "        Conv1D(filters=32, kernel_size=kernel_size, activation=activation, input_shape=(X_train.shape[1], 1)),\n",
        "        Flatten(),\n",
        "        Dense(64, activation=activation),\n",
        "        Dense(1, activation='sigmoid')\n",
        "    ])\n",
        "    model.compile(optimizer='adam', loss='binary_crossentropy', metrics=['accuracy'])\n",
        "    return model\n"
      ],
      "metadata": {
        "id": "_m6PIhUAAOhS"
      },
      "execution_count": null,
      "outputs": []
    },
    {
      "cell_type": "markdown",
      "source": [
        "**ReLU with Kernel Size 3**"
      ],
      "metadata": {
        "id": "9-1sbfX2Ambt"
      }
    },
    {
      "cell_type": "code",
      "source": [
        "model_cnn_relu_k3 = build_cnn_model(kernel_size=3, activation='relu')\n",
        "model_cnn_relu_k3.fit(X_train_cnn, y_train, epochs=20, validation_split=0.2, batch_size=32, verbose=1)\n",
        "\n",
        "y_pred_cnn_relu_k3 = (model_cnn_relu_k3.predict(X_test_cnn) > 0.5).astype(\"int32\")\n",
        "print(\"CNN (ReLU, Kernel=3):\\n\", classification_report(y_test, y_pred_cnn_relu_k3))\n"
      ],
      "metadata": {
        "colab": {
          "base_uri": "https://localhost:8080/"
        },
        "id": "LTnDtjwsAibh",
        "outputId": "ee3dd69e-398c-47ad-9b5f-16e905e163d2"
      },
      "execution_count": null,
      "outputs": [
        {
          "output_type": "stream",
          "name": "stderr",
          "text": [
            "/usr/local/lib/python3.11/dist-packages/keras/src/layers/convolutional/base_conv.py:107: UserWarning: Do not pass an `input_shape`/`input_dim` argument to a layer. When using Sequential models, prefer using an `Input(shape)` object as the first layer in the model instead.\n",
            "  super().__init__(activity_regularizer=activity_regularizer, **kwargs)\n"
          ]
        },
        {
          "output_type": "stream",
          "name": "stdout",
          "text": [
            "Epoch 1/20\n",
            "\u001b[1m30/30\u001b[0m \u001b[32m━━━━━━━━━━━━━━━━━━━━\u001b[0m\u001b[37m\u001b[0m \u001b[1m4s\u001b[0m 26ms/step - accuracy: 0.8516 - loss: 0.4825 - val_accuracy: 0.7966 - val_loss: 0.4459\n",
            "Epoch 2/20\n",
            "\u001b[1m30/30\u001b[0m \u001b[32m━━━━━━━━━━━━━━━━━━━━\u001b[0m\u001b[37m\u001b[0m \u001b[1m1s\u001b[0m 7ms/step - accuracy: 0.8551 - loss: 0.3252 - val_accuracy: 0.8305 - val_loss: 0.4144\n",
            "Epoch 3/20\n",
            "\u001b[1m30/30\u001b[0m \u001b[32m━━━━━━━━━━━━━━━━━━━━\u001b[0m\u001b[37m\u001b[0m \u001b[1m0s\u001b[0m 12ms/step - accuracy: 0.8650 - loss: 0.3242 - val_accuracy: 0.8263 - val_loss: 0.4315\n",
            "Epoch 4/20\n",
            "\u001b[1m30/30\u001b[0m \u001b[32m━━━━━━━━━━━━━━━━━━━━\u001b[0m\u001b[37m\u001b[0m \u001b[1m1s\u001b[0m 12ms/step - accuracy: 0.9028 - loss: 0.2386 - val_accuracy: 0.8390 - val_loss: 0.3755\n",
            "Epoch 5/20\n",
            "\u001b[1m30/30\u001b[0m \u001b[32m━━━━━━━━━━━━━━━━━━━━\u001b[0m\u001b[37m\u001b[0m \u001b[1m1s\u001b[0m 15ms/step - accuracy: 0.8787 - loss: 0.2800 - val_accuracy: 0.8517 - val_loss: 0.3718\n",
            "Epoch 6/20\n",
            "\u001b[1m30/30\u001b[0m \u001b[32m━━━━━━━━━━━━━━━━━━━━\u001b[0m\u001b[37m\u001b[0m \u001b[1m1s\u001b[0m 13ms/step - accuracy: 0.8842 - loss: 0.2783 - val_accuracy: 0.8305 - val_loss: 0.4282\n",
            "Epoch 7/20\n",
            "\u001b[1m30/30\u001b[0m \u001b[32m━━━━━━━━━━━━━━━━━━━━\u001b[0m\u001b[37m\u001b[0m \u001b[1m0s\u001b[0m 8ms/step - accuracy: 0.8817 - loss: 0.2614 - val_accuracy: 0.8475 - val_loss: 0.3761\n",
            "Epoch 8/20\n",
            "\u001b[1m30/30\u001b[0m \u001b[32m━━━━━━━━━━━━━━━━━━━━\u001b[0m\u001b[37m\u001b[0m \u001b[1m0s\u001b[0m 7ms/step - accuracy: 0.9116 - loss: 0.2357 - val_accuracy: 0.8517 - val_loss: 0.3904\n",
            "Epoch 9/20\n",
            "\u001b[1m30/30\u001b[0m \u001b[32m━━━━━━━━━━━━━━━━━━━━\u001b[0m\u001b[37m\u001b[0m \u001b[1m0s\u001b[0m 8ms/step - accuracy: 0.9212 - loss: 0.2130 - val_accuracy: 0.8432 - val_loss: 0.3907\n",
            "Epoch 10/20\n",
            "\u001b[1m30/30\u001b[0m \u001b[32m━━━━━━━━━━━━━━━━━━━━\u001b[0m\u001b[37m\u001b[0m \u001b[1m0s\u001b[0m 6ms/step - accuracy: 0.9356 - loss: 0.1821 - val_accuracy: 0.8347 - val_loss: 0.3843\n",
            "Epoch 11/20\n",
            "\u001b[1m30/30\u001b[0m \u001b[32m━━━━━━━━━━━━━━━━━━━━\u001b[0m\u001b[37m\u001b[0m \u001b[1m0s\u001b[0m 8ms/step - accuracy: 0.9308 - loss: 0.1980 - val_accuracy: 0.8347 - val_loss: 0.3941\n",
            "Epoch 12/20\n",
            "\u001b[1m30/30\u001b[0m \u001b[32m━━━━━━━━━━━━━━━━━━━━\u001b[0m\u001b[37m\u001b[0m \u001b[1m0s\u001b[0m 7ms/step - accuracy: 0.9236 - loss: 0.1831 - val_accuracy: 0.8390 - val_loss: 0.3983\n",
            "Epoch 13/20\n",
            "\u001b[1m30/30\u001b[0m \u001b[32m━━━━━━━━━━━━━━━━━━━━\u001b[0m\u001b[37m\u001b[0m \u001b[1m0s\u001b[0m 7ms/step - accuracy: 0.9464 - loss: 0.1904 - val_accuracy: 0.8347 - val_loss: 0.4330\n",
            "Epoch 14/20\n",
            "\u001b[1m30/30\u001b[0m \u001b[32m━━━━━━━━━━━━━━━━━━━━\u001b[0m\u001b[37m\u001b[0m \u001b[1m0s\u001b[0m 7ms/step - accuracy: 0.9370 - loss: 0.1675 - val_accuracy: 0.8390 - val_loss: 0.4265\n",
            "Epoch 15/20\n",
            "\u001b[1m30/30\u001b[0m \u001b[32m━━━━━━━━━━━━━━━━━━━━\u001b[0m\u001b[37m\u001b[0m \u001b[1m0s\u001b[0m 8ms/step - accuracy: 0.9486 - loss: 0.1645 - val_accuracy: 0.8263 - val_loss: 0.4373\n",
            "Epoch 16/20\n",
            "\u001b[1m30/30\u001b[0m \u001b[32m━━━━━━━━━━━━━━━━━━━━\u001b[0m\u001b[37m\u001b[0m \u001b[1m0s\u001b[0m 7ms/step - accuracy: 0.9572 - loss: 0.1302 - val_accuracy: 0.8432 - val_loss: 0.4486\n",
            "Epoch 17/20\n",
            "\u001b[1m30/30\u001b[0m \u001b[32m━━━━━━━━━━━━━━━━━━━━\u001b[0m\u001b[37m\u001b[0m \u001b[1m0s\u001b[0m 7ms/step - accuracy: 0.9623 - loss: 0.1233 - val_accuracy: 0.8475 - val_loss: 0.4665\n",
            "Epoch 18/20\n",
            "\u001b[1m30/30\u001b[0m \u001b[32m━━━━━━━━━━━━━━━━━━━━\u001b[0m\u001b[37m\u001b[0m \u001b[1m0s\u001b[0m 7ms/step - accuracy: 0.9789 - loss: 0.1122 - val_accuracy: 0.8390 - val_loss: 0.4656\n",
            "Epoch 19/20\n",
            "\u001b[1m30/30\u001b[0m \u001b[32m━━━━━━━━━━━━━━━━━━━━\u001b[0m\u001b[37m\u001b[0m \u001b[1m0s\u001b[0m 7ms/step - accuracy: 0.9635 - loss: 0.1188 - val_accuracy: 0.8263 - val_loss: 0.4668\n",
            "Epoch 20/20\n",
            "\u001b[1m30/30\u001b[0m \u001b[32m━━━━━━━━━━━━━━━━━━━━\u001b[0m\u001b[37m\u001b[0m \u001b[1m0s\u001b[0m 7ms/step - accuracy: 0.9809 - loss: 0.0884 - val_accuracy: 0.8390 - val_loss: 0.4909\n",
            "\u001b[1m10/10\u001b[0m \u001b[32m━━━━━━━━━━━━━━━━━━━━\u001b[0m\u001b[37m\u001b[0m \u001b[1m0s\u001b[0m 9ms/step\n",
            "CNN (ReLU, Kernel=3):\n",
            "               precision    recall  f1-score   support\n",
            "\n",
            "           0       0.90      0.93      0.91       255\n",
            "           1       0.41      0.33      0.37        39\n",
            "\n",
            "    accuracy                           0.85       294\n",
            "   macro avg       0.65      0.63      0.64       294\n",
            "weighted avg       0.84      0.85      0.84       294\n",
            "\n"
          ]
        }
      ]
    },
    {
      "cell_type": "markdown",
      "source": [
        "Now we are repeating this for:\n",
        "\n",
        "1.tanh + kernel 5\n",
        "\n",
        "2.swish + kernel 7\n",
        "\n",
        "3.sigmoid + kernel 3\n"
      ],
      "metadata": {
        "id": "_3abacStAxpz"
      }
    },
    {
      "cell_type": "code",
      "source": [
        "from sklearn.metrics import classification_report\n",
        "\n",
        "# Store results\n",
        "cnn_results = []\n",
        "\n",
        "# Activations and Kernel Sizes to try\n",
        "activations = {\n",
        "    'relu': 'relu',\n",
        "    'tanh': 'tanh',\n",
        "    'sigmoid': 'sigmoid',\n",
        "    'swish': swish\n",
        "}\n",
        "kernel_sizes = [3, 5, 7]\n",
        "\n",
        "# Reshape the data for Conv1D\n",
        "X_train_cnn = X_train.reshape((X_train.shape[0], X_train.shape[1], 1))\n",
        "X_test_cnn = X_test.reshape((X_test.shape[0], X_test.shape[1], 1))\n",
        "\n",
        "# Run models\n",
        "for act_name, act_func in activations.items():\n",
        "    for kernel in kernel_sizes:\n",
        "        model = Sequential([\n",
        "            Conv1D(filters=32, kernel_size=kernel, activation=act_func, input_shape=(X_train.shape[1], 1)),\n",
        "            Flatten(),\n",
        "            Dense(64, activation=act_func),\n",
        "            Dense(1, activation='sigmoid')\n",
        "        ])\n",
        "        model.compile(optimizer='adam', loss='binary_crossentropy', metrics=['accuracy'])\n",
        "        model.fit(X_train_cnn, y_train, epochs=10, validation_split=0.2, batch_size=32, verbose=0)\n",
        "\n",
        "        y_pred = (model.predict(X_test_cnn) > 0.5).astype(\"int32\")\n",
        "        report = classification_report(y_test, y_pred, output_dict=True)\n",
        "        accuracy = report['accuracy']\n",
        "\n",
        "        cnn_results.append({\n",
        "            \"activation\": act_name,\n",
        "            \"kernel_size\": kernel,\n",
        "            \"accuracy\": accuracy,\n",
        "            \"precision\": report['1']['precision'],\n",
        "            \"recall\": report['1']['recall'],\n",
        "            \"f1-score\": report['1']['f1-score']\n",
        "        })\n",
        "\n",
        "cnn_results\n"
      ],
      "metadata": {
        "colab": {
          "base_uri": "https://localhost:8080/"
        },
        "id": "WMi_gzjZApsw",
        "outputId": "510004f5-d71a-4371-887b-87b7a47bc9ff"
      },
      "execution_count": null,
      "outputs": [
        {
          "output_type": "stream",
          "name": "stderr",
          "text": [
            "/usr/local/lib/python3.11/dist-packages/keras/src/layers/convolutional/base_conv.py:107: UserWarning: Do not pass an `input_shape`/`input_dim` argument to a layer. When using Sequential models, prefer using an `Input(shape)` object as the first layer in the model instead.\n",
            "  super().__init__(activity_regularizer=activity_regularizer, **kwargs)\n"
          ]
        },
        {
          "output_type": "stream",
          "name": "stdout",
          "text": [
            "\u001b[1m10/10\u001b[0m \u001b[32m━━━━━━━━━━━━━━━━━━━━\u001b[0m\u001b[37m\u001b[0m \u001b[1m0s\u001b[0m 19ms/step\n"
          ]
        },
        {
          "output_type": "stream",
          "name": "stderr",
          "text": [
            "/usr/local/lib/python3.11/dist-packages/keras/src/layers/convolutional/base_conv.py:107: UserWarning: Do not pass an `input_shape`/`input_dim` argument to a layer. When using Sequential models, prefer using an `Input(shape)` object as the first layer in the model instead.\n",
            "  super().__init__(activity_regularizer=activity_regularizer, **kwargs)\n"
          ]
        },
        {
          "output_type": "stream",
          "name": "stdout",
          "text": [
            "\u001b[1m10/10\u001b[0m \u001b[32m━━━━━━━━━━━━━━━━━━━━\u001b[0m\u001b[37m\u001b[0m \u001b[1m0s\u001b[0m 9ms/step\n"
          ]
        },
        {
          "output_type": "stream",
          "name": "stderr",
          "text": [
            "/usr/local/lib/python3.11/dist-packages/keras/src/layers/convolutional/base_conv.py:107: UserWarning: Do not pass an `input_shape`/`input_dim` argument to a layer. When using Sequential models, prefer using an `Input(shape)` object as the first layer in the model instead.\n",
            "  super().__init__(activity_regularizer=activity_regularizer, **kwargs)\n"
          ]
        },
        {
          "output_type": "stream",
          "name": "stdout",
          "text": [
            "\u001b[1m10/10\u001b[0m \u001b[32m━━━━━━━━━━━━━━━━━━━━\u001b[0m\u001b[37m\u001b[0m \u001b[1m0s\u001b[0m 12ms/step\n"
          ]
        },
        {
          "output_type": "stream",
          "name": "stderr",
          "text": [
            "/usr/local/lib/python3.11/dist-packages/keras/src/layers/convolutional/base_conv.py:107: UserWarning: Do not pass an `input_shape`/`input_dim` argument to a layer. When using Sequential models, prefer using an `Input(shape)` object as the first layer in the model instead.\n",
            "  super().__init__(activity_regularizer=activity_regularizer, **kwargs)\n"
          ]
        },
        {
          "output_type": "stream",
          "name": "stdout",
          "text": [
            "\u001b[1m10/10\u001b[0m \u001b[32m━━━━━━━━━━━━━━━━━━━━\u001b[0m\u001b[37m\u001b[0m \u001b[1m0s\u001b[0m 15ms/step\n"
          ]
        },
        {
          "output_type": "stream",
          "name": "stderr",
          "text": [
            "/usr/local/lib/python3.11/dist-packages/keras/src/layers/convolutional/base_conv.py:107: UserWarning: Do not pass an `input_shape`/`input_dim` argument to a layer. When using Sequential models, prefer using an `Input(shape)` object as the first layer in the model instead.\n",
            "  super().__init__(activity_regularizer=activity_regularizer, **kwargs)\n"
          ]
        },
        {
          "output_type": "stream",
          "name": "stdout",
          "text": [
            "\u001b[1m10/10\u001b[0m \u001b[32m━━━━━━━━━━━━━━━━━━━━\u001b[0m\u001b[37m\u001b[0m \u001b[1m0s\u001b[0m 10ms/step\n"
          ]
        },
        {
          "output_type": "stream",
          "name": "stderr",
          "text": [
            "/usr/local/lib/python3.11/dist-packages/keras/src/layers/convolutional/base_conv.py:107: UserWarning: Do not pass an `input_shape`/`input_dim` argument to a layer. When using Sequential models, prefer using an `Input(shape)` object as the first layer in the model instead.\n",
            "  super().__init__(activity_regularizer=activity_regularizer, **kwargs)\n"
          ]
        },
        {
          "output_type": "stream",
          "name": "stdout",
          "text": [
            "\u001b[1m10/10\u001b[0m \u001b[32m━━━━━━━━━━━━━━━━━━━━\u001b[0m\u001b[37m\u001b[0m \u001b[1m0s\u001b[0m 25ms/step\n"
          ]
        },
        {
          "output_type": "stream",
          "name": "stderr",
          "text": [
            "/usr/local/lib/python3.11/dist-packages/keras/src/layers/convolutional/base_conv.py:107: UserWarning: Do not pass an `input_shape`/`input_dim` argument to a layer. When using Sequential models, prefer using an `Input(shape)` object as the first layer in the model instead.\n",
            "  super().__init__(activity_regularizer=activity_regularizer, **kwargs)\n"
          ]
        },
        {
          "output_type": "stream",
          "name": "stdout",
          "text": [
            "\u001b[1m10/10\u001b[0m \u001b[32m━━━━━━━━━━━━━━━━━━━━\u001b[0m\u001b[37m\u001b[0m \u001b[1m0s\u001b[0m 9ms/step\n"
          ]
        },
        {
          "output_type": "stream",
          "name": "stderr",
          "text": [
            "/usr/local/lib/python3.11/dist-packages/keras/src/layers/convolutional/base_conv.py:107: UserWarning: Do not pass an `input_shape`/`input_dim` argument to a layer. When using Sequential models, prefer using an `Input(shape)` object as the first layer in the model instead.\n",
            "  super().__init__(activity_regularizer=activity_regularizer, **kwargs)\n"
          ]
        },
        {
          "output_type": "stream",
          "name": "stdout",
          "text": [
            "\u001b[1m10/10\u001b[0m \u001b[32m━━━━━━━━━━━━━━━━━━━━\u001b[0m\u001b[37m\u001b[0m \u001b[1m0s\u001b[0m 9ms/step\n"
          ]
        },
        {
          "output_type": "stream",
          "name": "stderr",
          "text": [
            "/usr/local/lib/python3.11/dist-packages/keras/src/layers/convolutional/base_conv.py:107: UserWarning: Do not pass an `input_shape`/`input_dim` argument to a layer. When using Sequential models, prefer using an `Input(shape)` object as the first layer in the model instead.\n",
            "  super().__init__(activity_regularizer=activity_regularizer, **kwargs)\n"
          ]
        },
        {
          "output_type": "stream",
          "name": "stdout",
          "text": [
            "\u001b[1m10/10\u001b[0m \u001b[32m━━━━━━━━━━━━━━━━━━━━\u001b[0m\u001b[37m\u001b[0m \u001b[1m0s\u001b[0m 9ms/step\n"
          ]
        },
        {
          "output_type": "stream",
          "name": "stderr",
          "text": [
            "/usr/local/lib/python3.11/dist-packages/keras/src/layers/convolutional/base_conv.py:107: UserWarning: Do not pass an `input_shape`/`input_dim` argument to a layer. When using Sequential models, prefer using an `Input(shape)` object as the first layer in the model instead.\n",
            "  super().__init__(activity_regularizer=activity_regularizer, **kwargs)\n"
          ]
        },
        {
          "output_type": "stream",
          "name": "stdout",
          "text": [
            "\u001b[1m10/10\u001b[0m \u001b[32m━━━━━━━━━━━━━━━━━━━━\u001b[0m\u001b[37m\u001b[0m \u001b[1m0s\u001b[0m 11ms/step\n"
          ]
        },
        {
          "output_type": "stream",
          "name": "stderr",
          "text": [
            "/usr/local/lib/python3.11/dist-packages/keras/src/layers/convolutional/base_conv.py:107: UserWarning: Do not pass an `input_shape`/`input_dim` argument to a layer. When using Sequential models, prefer using an `Input(shape)` object as the first layer in the model instead.\n",
            "  super().__init__(activity_regularizer=activity_regularizer, **kwargs)\n"
          ]
        },
        {
          "output_type": "stream",
          "name": "stdout",
          "text": [
            "\u001b[1m10/10\u001b[0m \u001b[32m━━━━━━━━━━━━━━━━━━━━\u001b[0m\u001b[37m\u001b[0m \u001b[1m0s\u001b[0m 10ms/step\n"
          ]
        },
        {
          "output_type": "stream",
          "name": "stderr",
          "text": [
            "/usr/local/lib/python3.11/dist-packages/keras/src/layers/convolutional/base_conv.py:107: UserWarning: Do not pass an `input_shape`/`input_dim` argument to a layer. When using Sequential models, prefer using an `Input(shape)` object as the first layer in the model instead.\n",
            "  super().__init__(activity_regularizer=activity_regularizer, **kwargs)\n"
          ]
        },
        {
          "output_type": "stream",
          "name": "stdout",
          "text": [
            "\u001b[1m10/10\u001b[0m \u001b[32m━━━━━━━━━━━━━━━━━━━━\u001b[0m\u001b[37m\u001b[0m \u001b[1m0s\u001b[0m 10ms/step\n"
          ]
        },
        {
          "output_type": "execute_result",
          "data": {
            "text/plain": [
              "[{'activation': 'relu',\n",
              "  'kernel_size': 3,\n",
              "  'accuracy': 0.8639455782312925,\n",
              "  'precision': 0.4838709677419355,\n",
              "  'recall': 0.38461538461538464,\n",
              "  'f1-score': 0.42857142857142855},\n",
              " {'activation': 'relu',\n",
              "  'kernel_size': 5,\n",
              "  'accuracy': 0.8673469387755102,\n",
              "  'precision': 0.5,\n",
              "  'recall': 0.28205128205128205,\n",
              "  'f1-score': 0.36065573770491804},\n",
              " {'activation': 'relu',\n",
              "  'kernel_size': 7,\n",
              "  'accuracy': 0.8707482993197279,\n",
              "  'precision': 0.5294117647058824,\n",
              "  'recall': 0.23076923076923078,\n",
              "  'f1-score': 0.32142857142857145},\n",
              " {'activation': 'tanh',\n",
              "  'kernel_size': 3,\n",
              "  'accuracy': 0.8741496598639455,\n",
              "  'precision': 0.53125,\n",
              "  'recall': 0.4358974358974359,\n",
              "  'f1-score': 0.4788732394366197},\n",
              " {'activation': 'tanh',\n",
              "  'kernel_size': 5,\n",
              "  'accuracy': 0.8775510204081632,\n",
              "  'precision': 0.5428571428571428,\n",
              "  'recall': 0.48717948717948717,\n",
              "  'f1-score': 0.5135135135135135},\n",
              " {'activation': 'tanh',\n",
              "  'kernel_size': 7,\n",
              "  'accuracy': 0.8707482993197279,\n",
              "  'precision': 0.5161290322580645,\n",
              "  'recall': 0.41025641025641024,\n",
              "  'f1-score': 0.45714285714285713},\n",
              " {'activation': 'sigmoid',\n",
              "  'kernel_size': 3,\n",
              "  'accuracy': 0.891156462585034,\n",
              "  'precision': 0.7333333333333333,\n",
              "  'recall': 0.28205128205128205,\n",
              "  'f1-score': 0.4074074074074074},\n",
              " {'activation': 'sigmoid',\n",
              "  'kernel_size': 5,\n",
              "  'accuracy': 0.8707482993197279,\n",
              "  'precision': 1.0,\n",
              "  'recall': 0.02564102564102564,\n",
              "  'f1-score': 0.05},\n",
              " {'activation': 'sigmoid',\n",
              "  'kernel_size': 7,\n",
              "  'accuracy': 0.8707482993197279,\n",
              "  'precision': 1.0,\n",
              "  'recall': 0.02564102564102564,\n",
              "  'f1-score': 0.05},\n",
              " {'activation': 'swish',\n",
              "  'kernel_size': 3,\n",
              "  'accuracy': 0.8741496598639455,\n",
              "  'precision': 0.55,\n",
              "  'recall': 0.28205128205128205,\n",
              "  'f1-score': 0.3728813559322034},\n",
              " {'activation': 'swish',\n",
              "  'kernel_size': 5,\n",
              "  'accuracy': 0.8843537414965986,\n",
              "  'precision': 0.631578947368421,\n",
              "  'recall': 0.3076923076923077,\n",
              "  'f1-score': 0.41379310344827586},\n",
              " {'activation': 'swish',\n",
              "  'kernel_size': 7,\n",
              "  'accuracy': 0.8775510204081632,\n",
              "  'precision': 0.5652173913043478,\n",
              "  'recall': 0.3333333333333333,\n",
              "  'f1-score': 0.41935483870967744}]"
            ]
          },
          "metadata": {},
          "execution_count": 18
        }
      ]
    },
    {
      "cell_type": "markdown",
      "source": [
        "**All Activations with Kernel Sizes**"
      ],
      "metadata": {
        "id": "EulsZ9XNMf-t"
      }
    },
    {
      "cell_type": "code",
      "source": [
        "from tensorflow.keras.models import Sequential\n",
        "from tensorflow.keras.layers import Conv1D, Flatten, Dense\n",
        "from tensorflow.keras.activations import swish\n",
        "from sklearn.metrics import classification_report\n",
        "\n",
        "# Reshape input for Conv1D\n",
        "X_train_cnn = X_train.reshape((X_train.shape[0], X_train.shape[1], 1))\n",
        "X_test_cnn = X_test.reshape((X_test.shape[0], X_test.shape[1], 1))\n",
        "\n",
        "# Setup\n",
        "activations = {\n",
        "    'relu': 'relu',\n",
        "    'tanh': 'tanh',\n",
        "    'sigmoid': 'sigmoid',\n",
        "    'swish': swish\n",
        "}\n",
        "kernel_sizes = [3, 5, 7]\n",
        "results = []\n",
        "\n",
        "# Loop through each activation + kernel\n",
        "for act_name, act_func in activations.items():\n",
        "    for k in kernel_sizes:\n",
        "        model = Sequential([\n",
        "            Conv1D(filters=32, kernel_size=k, activation=act_func, input_shape=(X_train.shape[1], 1)),\n",
        "            Flatten(),\n",
        "            Dense(64, activation=act_func),\n",
        "            Dense(1, activation='sigmoid')\n",
        "        ])\n",
        "        model.compile(optimizer='adam', loss='binary_crossentropy', metrics=['accuracy'])\n",
        "        model.fit(X_train_cnn, y_train, epochs=10, validation_split=0.2, batch_size=32, verbose=0)\n",
        "\n",
        "        y_pred = (model.predict(X_test_cnn) > 0.5).astype(\"int32\")\n",
        "        report = classification_report(y_test, y_pred, output_dict=True)\n",
        "\n",
        "        results.append({\n",
        "            \"activation\": act_name,\n",
        "            \"kernel_size\": k,\n",
        "            \"accuracy\": report[\"accuracy\"],\n",
        "            \"precision\": report[\"1\"][\"precision\"],\n",
        "            \"recall\": report[\"1\"][\"recall\"],\n",
        "            \"f1-score\": report[\"1\"][\"f1-score\"]\n",
        "        })\n",
        "\n",
        "# Display results\n",
        "import pandas as pd\n",
        "results_df = pd.DataFrame(results)\n",
        "print(results_df.sort_values(by='accuracy', ascending=False))\n"
      ],
      "metadata": {
        "colab": {
          "base_uri": "https://localhost:8080/"
        },
        "id": "hjKN-rGjMjiz",
        "outputId": "c1b816a1-5fa0-44c9-c7bd-9319958ff222"
      },
      "execution_count": null,
      "outputs": [
        {
          "output_type": "stream",
          "name": "stderr",
          "text": [
            "/usr/local/lib/python3.11/dist-packages/keras/src/layers/convolutional/base_conv.py:107: UserWarning: Do not pass an `input_shape`/`input_dim` argument to a layer. When using Sequential models, prefer using an `Input(shape)` object as the first layer in the model instead.\n",
            "  super().__init__(activity_regularizer=activity_regularizer, **kwargs)\n"
          ]
        },
        {
          "output_type": "stream",
          "name": "stdout",
          "text": [
            "\u001b[1m10/10\u001b[0m \u001b[32m━━━━━━━━━━━━━━━━━━━━\u001b[0m\u001b[37m\u001b[0m \u001b[1m0s\u001b[0m 15ms/step\n"
          ]
        },
        {
          "output_type": "stream",
          "name": "stderr",
          "text": [
            "/usr/local/lib/python3.11/dist-packages/keras/src/layers/convolutional/base_conv.py:107: UserWarning: Do not pass an `input_shape`/`input_dim` argument to a layer. When using Sequential models, prefer using an `Input(shape)` object as the first layer in the model instead.\n",
            "  super().__init__(activity_regularizer=activity_regularizer, **kwargs)\n"
          ]
        },
        {
          "output_type": "stream",
          "name": "stdout",
          "text": [
            "\u001b[1m10/10\u001b[0m \u001b[32m━━━━━━━━━━━━━━━━━━━━\u001b[0m\u001b[37m\u001b[0m \u001b[1m0s\u001b[0m 9ms/step\n"
          ]
        },
        {
          "output_type": "stream",
          "name": "stderr",
          "text": [
            "/usr/local/lib/python3.11/dist-packages/keras/src/layers/convolutional/base_conv.py:107: UserWarning: Do not pass an `input_shape`/`input_dim` argument to a layer. When using Sequential models, prefer using an `Input(shape)` object as the first layer in the model instead.\n",
            "  super().__init__(activity_regularizer=activity_regularizer, **kwargs)\n"
          ]
        },
        {
          "output_type": "stream",
          "name": "stdout",
          "text": [
            "\u001b[1m10/10\u001b[0m \u001b[32m━━━━━━━━━━━━━━━━━━━━\u001b[0m\u001b[37m\u001b[0m \u001b[1m0s\u001b[0m 10ms/step\n"
          ]
        },
        {
          "output_type": "stream",
          "name": "stderr",
          "text": [
            "/usr/local/lib/python3.11/dist-packages/keras/src/layers/convolutional/base_conv.py:107: UserWarning: Do not pass an `input_shape`/`input_dim` argument to a layer. When using Sequential models, prefer using an `Input(shape)` object as the first layer in the model instead.\n",
            "  super().__init__(activity_regularizer=activity_regularizer, **kwargs)\n"
          ]
        },
        {
          "output_type": "stream",
          "name": "stdout",
          "text": [
            "\u001b[1m10/10\u001b[0m \u001b[32m━━━━━━━━━━━━━━━━━━━━\u001b[0m\u001b[37m\u001b[0m \u001b[1m0s\u001b[0m 9ms/step\n"
          ]
        },
        {
          "output_type": "stream",
          "name": "stderr",
          "text": [
            "/usr/local/lib/python3.11/dist-packages/keras/src/layers/convolutional/base_conv.py:107: UserWarning: Do not pass an `input_shape`/`input_dim` argument to a layer. When using Sequential models, prefer using an `Input(shape)` object as the first layer in the model instead.\n",
            "  super().__init__(activity_regularizer=activity_regularizer, **kwargs)\n"
          ]
        },
        {
          "output_type": "stream",
          "name": "stdout",
          "text": [
            "\u001b[1m10/10\u001b[0m \u001b[32m━━━━━━━━━━━━━━━━━━━━\u001b[0m\u001b[37m\u001b[0m \u001b[1m0s\u001b[0m 14ms/step\n"
          ]
        },
        {
          "output_type": "stream",
          "name": "stderr",
          "text": [
            "/usr/local/lib/python3.11/dist-packages/keras/src/layers/convolutional/base_conv.py:107: UserWarning: Do not pass an `input_shape`/`input_dim` argument to a layer. When using Sequential models, prefer using an `Input(shape)` object as the first layer in the model instead.\n",
            "  super().__init__(activity_regularizer=activity_regularizer, **kwargs)\n"
          ]
        },
        {
          "output_type": "stream",
          "name": "stdout",
          "text": [
            "\u001b[1m10/10\u001b[0m \u001b[32m━━━━━━━━━━━━━━━━━━━━\u001b[0m\u001b[37m\u001b[0m \u001b[1m0s\u001b[0m 9ms/step\n"
          ]
        },
        {
          "output_type": "stream",
          "name": "stderr",
          "text": [
            "/usr/local/lib/python3.11/dist-packages/keras/src/layers/convolutional/base_conv.py:107: UserWarning: Do not pass an `input_shape`/`input_dim` argument to a layer. When using Sequential models, prefer using an `Input(shape)` object as the first layer in the model instead.\n",
            "  super().__init__(activity_regularizer=activity_regularizer, **kwargs)\n"
          ]
        },
        {
          "output_type": "stream",
          "name": "stdout",
          "text": [
            "\u001b[1m10/10\u001b[0m \u001b[32m━━━━━━━━━━━━━━━━━━━━\u001b[0m\u001b[37m\u001b[0m \u001b[1m0s\u001b[0m 9ms/step\n"
          ]
        },
        {
          "output_type": "stream",
          "name": "stderr",
          "text": [
            "/usr/local/lib/python3.11/dist-packages/sklearn/metrics/_classification.py:1565: UndefinedMetricWarning: Precision is ill-defined and being set to 0.0 in labels with no predicted samples. Use `zero_division` parameter to control this behavior.\n",
            "  _warn_prf(average, modifier, f\"{metric.capitalize()} is\", len(result))\n",
            "/usr/local/lib/python3.11/dist-packages/sklearn/metrics/_classification.py:1565: UndefinedMetricWarning: Precision is ill-defined and being set to 0.0 in labels with no predicted samples. Use `zero_division` parameter to control this behavior.\n",
            "  _warn_prf(average, modifier, f\"{metric.capitalize()} is\", len(result))\n",
            "/usr/local/lib/python3.11/dist-packages/sklearn/metrics/_classification.py:1565: UndefinedMetricWarning: Precision is ill-defined and being set to 0.0 in labels with no predicted samples. Use `zero_division` parameter to control this behavior.\n",
            "  _warn_prf(average, modifier, f\"{metric.capitalize()} is\", len(result))\n",
            "/usr/local/lib/python3.11/dist-packages/keras/src/layers/convolutional/base_conv.py:107: UserWarning: Do not pass an `input_shape`/`input_dim` argument to a layer. When using Sequential models, prefer using an `Input(shape)` object as the first layer in the model instead.\n",
            "  super().__init__(activity_regularizer=activity_regularizer, **kwargs)\n"
          ]
        },
        {
          "output_type": "stream",
          "name": "stdout",
          "text": [
            "\u001b[1m10/10\u001b[0m \u001b[32m━━━━━━━━━━━━━━━━━━━━\u001b[0m\u001b[37m\u001b[0m \u001b[1m0s\u001b[0m 9ms/step\n"
          ]
        },
        {
          "output_type": "stream",
          "name": "stderr",
          "text": [
            "/usr/local/lib/python3.11/dist-packages/sklearn/metrics/_classification.py:1565: UndefinedMetricWarning: Precision is ill-defined and being set to 0.0 in labels with no predicted samples. Use `zero_division` parameter to control this behavior.\n",
            "  _warn_prf(average, modifier, f\"{metric.capitalize()} is\", len(result))\n",
            "/usr/local/lib/python3.11/dist-packages/sklearn/metrics/_classification.py:1565: UndefinedMetricWarning: Precision is ill-defined and being set to 0.0 in labels with no predicted samples. Use `zero_division` parameter to control this behavior.\n",
            "  _warn_prf(average, modifier, f\"{metric.capitalize()} is\", len(result))\n",
            "/usr/local/lib/python3.11/dist-packages/sklearn/metrics/_classification.py:1565: UndefinedMetricWarning: Precision is ill-defined and being set to 0.0 in labels with no predicted samples. Use `zero_division` parameter to control this behavior.\n",
            "  _warn_prf(average, modifier, f\"{metric.capitalize()} is\", len(result))\n",
            "/usr/local/lib/python3.11/dist-packages/keras/src/layers/convolutional/base_conv.py:107: UserWarning: Do not pass an `input_shape`/`input_dim` argument to a layer. When using Sequential models, prefer using an `Input(shape)` object as the first layer in the model instead.\n",
            "  super().__init__(activity_regularizer=activity_regularizer, **kwargs)\n"
          ]
        },
        {
          "output_type": "stream",
          "name": "stdout",
          "text": [
            "\u001b[1m10/10\u001b[0m \u001b[32m━━━━━━━━━━━━━━━━━━━━\u001b[0m\u001b[37m\u001b[0m \u001b[1m0s\u001b[0m 10ms/step\n"
          ]
        },
        {
          "output_type": "stream",
          "name": "stderr",
          "text": [
            "/usr/local/lib/python3.11/dist-packages/keras/src/layers/convolutional/base_conv.py:107: UserWarning: Do not pass an `input_shape`/`input_dim` argument to a layer. When using Sequential models, prefer using an `Input(shape)` object as the first layer in the model instead.\n",
            "  super().__init__(activity_regularizer=activity_regularizer, **kwargs)\n"
          ]
        },
        {
          "output_type": "stream",
          "name": "stdout",
          "text": [
            "\u001b[1m10/10\u001b[0m \u001b[32m━━━━━━━━━━━━━━━━━━━━\u001b[0m\u001b[37m\u001b[0m \u001b[1m0s\u001b[0m 17ms/step\n"
          ]
        },
        {
          "output_type": "stream",
          "name": "stderr",
          "text": [
            "/usr/local/lib/python3.11/dist-packages/keras/src/layers/convolutional/base_conv.py:107: UserWarning: Do not pass an `input_shape`/`input_dim` argument to a layer. When using Sequential models, prefer using an `Input(shape)` object as the first layer in the model instead.\n",
            "  super().__init__(activity_regularizer=activity_regularizer, **kwargs)\n"
          ]
        },
        {
          "output_type": "stream",
          "name": "stdout",
          "text": [
            "\u001b[1m10/10\u001b[0m \u001b[32m━━━━━━━━━━━━━━━━━━━━\u001b[0m\u001b[37m\u001b[0m \u001b[1m0s\u001b[0m 15ms/step\n"
          ]
        },
        {
          "output_type": "stream",
          "name": "stderr",
          "text": [
            "/usr/local/lib/python3.11/dist-packages/keras/src/layers/convolutional/base_conv.py:107: UserWarning: Do not pass an `input_shape`/`input_dim` argument to a layer. When using Sequential models, prefer using an `Input(shape)` object as the first layer in the model instead.\n",
            "  super().__init__(activity_regularizer=activity_regularizer, **kwargs)\n"
          ]
        },
        {
          "output_type": "stream",
          "name": "stdout",
          "text": [
            "\u001b[1m10/10\u001b[0m \u001b[32m━━━━━━━━━━━━━━━━━━━━\u001b[0m\u001b[37m\u001b[0m \u001b[1m0s\u001b[0m 11ms/step\n",
            "   activation  kernel_size  accuracy  precision    recall  f1-score\n",
            "5        tanh            7  0.887755   0.607143  0.435897  0.507463\n",
            "3        tanh            3  0.880952   0.562500  0.461538  0.507042\n",
            "8     sigmoid            7  0.880952   0.666667  0.205128  0.313725\n",
            "1        relu            5  0.877551   0.551724  0.410256  0.470588\n",
            "9       swish            3  0.874150   0.533333  0.410256  0.463768\n",
            "4        tanh            5  0.874150   0.535714  0.384615  0.447761\n",
            "11      swish            7  0.870748   0.521739  0.307692  0.387097\n",
            "6     sigmoid            3  0.867347   0.000000  0.000000  0.000000\n",
            "7     sigmoid            5  0.867347   0.000000  0.000000  0.000000\n",
            "10      swish            5  0.867347   0.500000  0.384615  0.434783\n",
            "0        relu            3  0.860544   0.475000  0.487179  0.481013\n",
            "2        relu            7  0.853741   0.423077  0.282051  0.338462\n"
          ]
        }
      ]
    },
    {
      "cell_type": "markdown",
      "source": [
        "###Plot Performance Comparison"
      ],
      "metadata": {
        "id": "-XCVioWPM6yq"
      }
    },
    {
      "cell_type": "code",
      "source": [
        "import matplotlib.pyplot as plt\n",
        "import seaborn as sns\n",
        "\n",
        "# Use the same results_df from previous code block\n",
        "# Example: results_df = pd.DataFrame(results)\n",
        "\n",
        "# Set seaborn theme\n",
        "sns.set(style=\"whitegrid\")\n",
        "plt.figure(figsize=(14, 8))\n",
        "\n",
        "# Plot Accuracy\n",
        "plt.subplot(2, 2, 1)\n",
        "sns.barplot(data=results_df, x='activation', y='accuracy', hue='kernel_size')\n",
        "plt.title('Model Accuracy by Activation and Kernel Size')\n",
        "\n",
        "# Plot Precision\n",
        "plt.subplot(2, 2, 2)\n",
        "sns.barplot(data=results_df, x='activation', y='precision', hue='kernel_size')\n",
        "plt.title('Precision by Activation and Kernel Size')\n",
        "\n",
        "# Plot Recall\n",
        "plt.subplot(2, 2, 3)\n",
        "sns.barplot(data=results_df, x='activation', y='recall', hue='kernel_size')\n",
        "plt.title('Recall by Activation and Kernel Size')\n",
        "\n",
        "# Plot F1 Score\n",
        "plt.subplot(2, 2, 4)\n",
        "sns.barplot(data=results_df, x='activation', y='f1-score', hue='kernel_size')\n",
        "plt.title('F1-Score by Activation and Kernel Size')\n",
        "\n",
        "plt.tight_layout()\n",
        "plt.show()\n"
      ],
      "metadata": {
        "colab": {
          "base_uri": "https://localhost:8080/",
          "height": 622
        },
        "id": "e6tCapHCM_cj",
        "outputId": "81a9dc83-fdff-4aad-a1bd-287a330c8b13"
      },
      "execution_count": null,
      "outputs": [
        {
          "output_type": "display_data",
          "data": {
            "text/plain": [
              "<Figure size 1400x800 with 4 Axes>"
            ],
            "image/png": "[encoded data removed]"
          },
          "metadata": {}
        }
      ]
    },
    {
      "cell_type": "code",
      "source": [],
      "metadata": {
        "id": "_ZEzPJaKNCrx"
      },
      "execution_count": null,
      "outputs": []
    }
  ]
}